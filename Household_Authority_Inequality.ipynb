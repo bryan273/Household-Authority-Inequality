{
  "cells": [
    {
      "cell_type": "markdown",
      "metadata": {
        "id": "SyGQcIp30x01"
      },
      "source": [
        "## Prerequisities"
      ]
    },
    {
      "cell_type": "code",
      "execution_count": null,
      "metadata": {
        "id": "E0UP-ZEuorSN"
      },
      "outputs": [],
      "source": [
        "# install prerequisities\n",
        "\n",
        "import gdown\n",
        "import pandas as pd\n",
        "import numpy as np\n",
        "import seaborn as sns\n",
        "import matplotlib.pyplot as plt\n",
        "import statsmodels.api as sm\n",
        "from sklearn.experimental import enable_iterative_imputer\n",
        "from sklearn.impute import IterativeImputer\n",
        "from sklearn.linear_model import LinearRegression\n",
        "from scipy import stats\n",
        "from scipy.stats import pearsonr\n",
        "from sklearn.linear_model import LinearRegression\n",
        "from statsmodels.tsa.stattools import adfuller\n",
        "from statsmodels.graphics.tsaplots import plot_acf\n",
        "from statsmodels.graphics.tsaplots import plot_pacf\n",
        "from sklearn.metrics import r2_score\n",
        "from statsmodels.tsa.api import ARIMA\n",
        "from sklearn.metrics import mean_squared_error"
      ]
    },
    {
      "cell_type": "code",
      "execution_count": null,
      "metadata": {
        "id": "Bb-JYV0VDkLP"
      },
      "outputs": [],
      "source": [
        "# Load data from drive\n",
        "def load_data(link, index= None):\n",
        "  # Download data from gdrive\n",
        "  meta_url = 'https://drive.google.com/uc?export=download&confirm=pbef&id='\n",
        "  url = meta_url + link\n",
        "  output = 'data.xlsx'\n",
        "  gdown.download(url, output, quiet=True)\n",
        "  data = pd.read_excel(output)\n",
        "  return data"
      ]
    },
    {
      "cell_type": "markdown",
      "source": [
        "## Prepare Formal Employer Data"
      ],
      "metadata": {
        "id": "cFuGFJq9wUqz"
      }
    },
    {
      "cell_type": "code",
      "source": [
        "# Prepare the employment data\n",
        "emp_df = load_data('13ZCJJ8QCcMc-encEBvbmY1Cp_mPOcAkY')\n",
        "emp_df.drop(['Series Code','Country Code'], axis=1, inplace=True)\n",
        "emp_df.columns = ['Series', 'Country'] + [str(i) for i in range(2003,2019)]"
      ],
      "metadata": {
        "id": "3_R5EPMswgh4"
      },
      "execution_count": null,
      "outputs": []
    },
    {
      "cell_type": "code",
      "source": [
        "emp_df.tail(1)"
      ],
      "metadata": {
        "colab": {
          "base_uri": "https://localhost:8080/"
        },
        "id": "2R9oRHy3wnrt",
        "outputId": "756d1750-9063-4bc1-8bc5-e68734fabefe"
      },
      "execution_count": null,
      "outputs": [
        {
          "output_type": "execute_result",
          "data": {
            "text/plain": [
              "                                                Series   Country       2003  \\\n",
              "111  Self-employed, male (% of male employment) (mo...  Zimbabwe  50.139999   \n",
              "\n",
              "      2004       2005   2006       2007   2008   2009   2010  2011       2012  \\\n",
              "111  50.16  50.830002  52.18  54.560001  58.48  57.66  56.93  56.0  56.509998   \n",
              "\n",
              "      2013       2014       2015   2016   2017   2018  \n",
              "111  56.84  56.689999  57.060001  57.48  57.25  56.98  "
            ],
            "text/html": [
              "\n",
              "  <div id=\"df-7e36d330-6d53-4b58-adfc-cc11857794fb\">\n",
              "    <div class=\"colab-df-container\">\n",
              "      <div>\n",
              "<style scoped>\n",
              "    .dataframe tbody tr th:only-of-type {\n",
              "        vertical-align: middle;\n",
              "    }\n",
              "\n",
              "    .dataframe tbody tr th {\n",
              "        vertical-align: top;\n",
              "    }\n",
              "\n",
              "    .dataframe thead th {\n",
              "        text-align: right;\n",
              "    }\n",
              "</style>\n",
              "<table border=\"1\" class=\"dataframe\">\n",
              "  <thead>\n",
              "    <tr style=\"text-align: right;\">\n",
              "      <th></th>\n",
              "      <th>Series</th>\n",
              "      <th>Country</th>\n",
              "      <th>2003</th>\n",
              "      <th>2004</th>\n",
              "      <th>2005</th>\n",
              "      <th>2006</th>\n",
              "      <th>2007</th>\n",
              "      <th>2008</th>\n",
              "      <th>2009</th>\n",
              "      <th>2010</th>\n",
              "      <th>2011</th>\n",
              "      <th>2012</th>\n",
              "      <th>2013</th>\n",
              "      <th>2014</th>\n",
              "      <th>2015</th>\n",
              "      <th>2016</th>\n",
              "      <th>2017</th>\n",
              "      <th>2018</th>\n",
              "    </tr>\n",
              "  </thead>\n",
              "  <tbody>\n",
              "    <tr>\n",
              "      <th>111</th>\n",
              "      <td>Self-employed, male (% of male employment) (mo...</td>\n",
              "      <td>Zimbabwe</td>\n",
              "      <td>50.139999</td>\n",
              "      <td>50.16</td>\n",
              "      <td>50.830002</td>\n",
              "      <td>52.18</td>\n",
              "      <td>54.560001</td>\n",
              "      <td>58.48</td>\n",
              "      <td>57.66</td>\n",
              "      <td>56.93</td>\n",
              "      <td>56.0</td>\n",
              "      <td>56.509998</td>\n",
              "      <td>56.84</td>\n",
              "      <td>56.689999</td>\n",
              "      <td>57.060001</td>\n",
              "      <td>57.48</td>\n",
              "      <td>57.25</td>\n",
              "      <td>56.98</td>\n",
              "    </tr>\n",
              "  </tbody>\n",
              "</table>\n",
              "</div>\n",
              "      <button class=\"colab-df-convert\" onclick=\"convertToInteractive('df-7e36d330-6d53-4b58-adfc-cc11857794fb')\"\n",
              "              title=\"Convert this dataframe to an interactive table.\"\n",
              "              style=\"display:none;\">\n",
              "        \n",
              "  <svg xmlns=\"http://www.w3.org/2000/svg\" height=\"24px\"viewBox=\"0 0 24 24\"\n",
              "       width=\"24px\">\n",
              "    <path d=\"M0 0h24v24H0V0z\" fill=\"none\"/>\n",
              "    <path d=\"M18.56 5.44l.94 2.06.94-2.06 2.06-.94-2.06-.94-.94-2.06-.94 2.06-2.06.94zm-11 1L8.5 8.5l.94-2.06 2.06-.94-2.06-.94L8.5 2.5l-.94 2.06-2.06.94zm10 10l.94 2.06.94-2.06 2.06-.94-2.06-.94-.94-2.06-.94 2.06-2.06.94z\"/><path d=\"M17.41 7.96l-1.37-1.37c-.4-.4-.92-.59-1.43-.59-.52 0-1.04.2-1.43.59L10.3 9.45l-7.72 7.72c-.78.78-.78 2.05 0 2.83L4 21.41c.39.39.9.59 1.41.59.51 0 1.02-.2 1.41-.59l7.78-7.78 2.81-2.81c.8-.78.8-2.07 0-2.86zM5.41 20L4 18.59l7.72-7.72 1.47 1.35L5.41 20z\"/>\n",
              "  </svg>\n",
              "      </button>\n",
              "      \n",
              "  <style>\n",
              "    .colab-df-container {\n",
              "      display:flex;\n",
              "      flex-wrap:wrap;\n",
              "      gap: 12px;\n",
              "    }\n",
              "\n",
              "    .colab-df-convert {\n",
              "      background-color: #E8F0FE;\n",
              "      border: none;\n",
              "      border-radius: 50%;\n",
              "      cursor: pointer;\n",
              "      display: none;\n",
              "      fill: #1967D2;\n",
              "      height: 32px;\n",
              "      padding: 0 0 0 0;\n",
              "      width: 32px;\n",
              "    }\n",
              "\n",
              "    .colab-df-convert:hover {\n",
              "      background-color: #E2EBFA;\n",
              "      box-shadow: 0px 1px 2px rgba(60, 64, 67, 0.3), 0px 1px 3px 1px rgba(60, 64, 67, 0.15);\n",
              "      fill: #174EA6;\n",
              "    }\n",
              "\n",
              "    [theme=dark] .colab-df-convert {\n",
              "      background-color: #3B4455;\n",
              "      fill: #D2E3FC;\n",
              "    }\n",
              "\n",
              "    [theme=dark] .colab-df-convert:hover {\n",
              "      background-color: #434B5C;\n",
              "      box-shadow: 0px 1px 3px 1px rgba(0, 0, 0, 0.15);\n",
              "      filter: drop-shadow(0px 1px 2px rgba(0, 0, 0, 0.3));\n",
              "      fill: #FFFFFF;\n",
              "    }\n",
              "  </style>\n",
              "\n",
              "      <script>\n",
              "        const buttonEl =\n",
              "          document.querySelector('#df-7e36d330-6d53-4b58-adfc-cc11857794fb button.colab-df-convert');\n",
              "        buttonEl.style.display =\n",
              "          google.colab.kernel.accessAllowed ? 'block' : 'none';\n",
              "\n",
              "        async function convertToInteractive(key) {\n",
              "          const element = document.querySelector('#df-7e36d330-6d53-4b58-adfc-cc11857794fb');\n",
              "          const dataTable =\n",
              "            await google.colab.kernel.invokeFunction('convertToInteractive',\n",
              "                                                     [key], {});\n",
              "          if (!dataTable) return;\n",
              "\n",
              "          const docLinkHtml = 'Like what you see? Visit the ' +\n",
              "            '<a target=\"_blank\" href=https://colab.research.google.com/notebooks/data_table.ipynb>data table notebook</a>'\n",
              "            + ' to learn more about interactive tables.';\n",
              "          element.innerHTML = '';\n",
              "          dataTable['output_type'] = 'display_data';\n",
              "          await google.colab.output.renderOutput(dataTable, element);\n",
              "          const docLink = document.createElement('div');\n",
              "          docLink.innerHTML = docLinkHtml;\n",
              "          element.appendChild(docLink);\n",
              "        }\n",
              "      </script>\n",
              "    </div>\n",
              "  </div>\n",
              "  "
            ]
          },
          "metadata": {},
          "execution_count": 5
        }
      ]
    },
    {
      "cell_type": "code",
      "source": [
        "# Melt the data to transform data structure\n",
        "melted_emp_df = pd.melt(emp_df, id_vars=['Series', 'Country'], \n",
        "                    var_name='Year', value_name='Value')\n",
        "melted_emp_df.tail()"
      ],
      "metadata": {
        "colab": {
          "base_uri": "https://localhost:8080/"
        },
        "id": "buPxnSSRxReJ",
        "outputId": "239bf1a8-3987-4c37-99d7-19b02654b0c4"
      },
      "execution_count": null,
      "outputs": [
        {
          "output_type": "execute_result",
          "data": {
            "text/plain": [
              "                                                 Series   Country  Year  \\\n",
              "1787  Self-employed, male (% of male employment) (mo...   Senegal  2018   \n",
              "1788  Self-employed, male (% of male employment) (mo...  Tanzania  2018   \n",
              "1789  Self-employed, male (% of male employment) (mo...    Uganda  2018   \n",
              "1790  Self-employed, male (% of male employment) (mo...    Zambia  2018   \n",
              "1791  Self-employed, male (% of male employment) (mo...  Zimbabwe  2018   \n",
              "\n",
              "          Value  \n",
              "1787  59.840000  \n",
              "1788  80.720001  \n",
              "1789  71.959999  \n",
              "1790  66.660004  \n",
              "1791  56.980000  "
            ],
            "text/html": [
              "\n",
              "  <div id=\"df-7bb772ac-c6d9-4eea-aded-48ee10cc04b1\">\n",
              "    <div class=\"colab-df-container\">\n",
              "      <div>\n",
              "<style scoped>\n",
              "    .dataframe tbody tr th:only-of-type {\n",
              "        vertical-align: middle;\n",
              "    }\n",
              "\n",
              "    .dataframe tbody tr th {\n",
              "        vertical-align: top;\n",
              "    }\n",
              "\n",
              "    .dataframe thead th {\n",
              "        text-align: right;\n",
              "    }\n",
              "</style>\n",
              "<table border=\"1\" class=\"dataframe\">\n",
              "  <thead>\n",
              "    <tr style=\"text-align: right;\">\n",
              "      <th></th>\n",
              "      <th>Series</th>\n",
              "      <th>Country</th>\n",
              "      <th>Year</th>\n",
              "      <th>Value</th>\n",
              "    </tr>\n",
              "  </thead>\n",
              "  <tbody>\n",
              "    <tr>\n",
              "      <th>1787</th>\n",
              "      <td>Self-employed, male (% of male employment) (mo...</td>\n",
              "      <td>Senegal</td>\n",
              "      <td>2018</td>\n",
              "      <td>59.840000</td>\n",
              "    </tr>\n",
              "    <tr>\n",
              "      <th>1788</th>\n",
              "      <td>Self-employed, male (% of male employment) (mo...</td>\n",
              "      <td>Tanzania</td>\n",
              "      <td>2018</td>\n",
              "      <td>80.720001</td>\n",
              "    </tr>\n",
              "    <tr>\n",
              "      <th>1789</th>\n",
              "      <td>Self-employed, male (% of male employment) (mo...</td>\n",
              "      <td>Uganda</td>\n",
              "      <td>2018</td>\n",
              "      <td>71.959999</td>\n",
              "    </tr>\n",
              "    <tr>\n",
              "      <th>1790</th>\n",
              "      <td>Self-employed, male (% of male employment) (mo...</td>\n",
              "      <td>Zambia</td>\n",
              "      <td>2018</td>\n",
              "      <td>66.660004</td>\n",
              "    </tr>\n",
              "    <tr>\n",
              "      <th>1791</th>\n",
              "      <td>Self-employed, male (% of male employment) (mo...</td>\n",
              "      <td>Zimbabwe</td>\n",
              "      <td>2018</td>\n",
              "      <td>56.980000</td>\n",
              "    </tr>\n",
              "  </tbody>\n",
              "</table>\n",
              "</div>\n",
              "      <button class=\"colab-df-convert\" onclick=\"convertToInteractive('df-7bb772ac-c6d9-4eea-aded-48ee10cc04b1')\"\n",
              "              title=\"Convert this dataframe to an interactive table.\"\n",
              "              style=\"display:none;\">\n",
              "        \n",
              "  <svg xmlns=\"http://www.w3.org/2000/svg\" height=\"24px\"viewBox=\"0 0 24 24\"\n",
              "       width=\"24px\">\n",
              "    <path d=\"M0 0h24v24H0V0z\" fill=\"none\"/>\n",
              "    <path d=\"M18.56 5.44l.94 2.06.94-2.06 2.06-.94-2.06-.94-.94-2.06-.94 2.06-2.06.94zm-11 1L8.5 8.5l.94-2.06 2.06-.94-2.06-.94L8.5 2.5l-.94 2.06-2.06.94zm10 10l.94 2.06.94-2.06 2.06-.94-2.06-.94-.94-2.06-.94 2.06-2.06.94z\"/><path d=\"M17.41 7.96l-1.37-1.37c-.4-.4-.92-.59-1.43-.59-.52 0-1.04.2-1.43.59L10.3 9.45l-7.72 7.72c-.78.78-.78 2.05 0 2.83L4 21.41c.39.39.9.59 1.41.59.51 0 1.02-.2 1.41-.59l7.78-7.78 2.81-2.81c.8-.78.8-2.07 0-2.86zM5.41 20L4 18.59l7.72-7.72 1.47 1.35L5.41 20z\"/>\n",
              "  </svg>\n",
              "      </button>\n",
              "      \n",
              "  <style>\n",
              "    .colab-df-container {\n",
              "      display:flex;\n",
              "      flex-wrap:wrap;\n",
              "      gap: 12px;\n",
              "    }\n",
              "\n",
              "    .colab-df-convert {\n",
              "      background-color: #E8F0FE;\n",
              "      border: none;\n",
              "      border-radius: 50%;\n",
              "      cursor: pointer;\n",
              "      display: none;\n",
              "      fill: #1967D2;\n",
              "      height: 32px;\n",
              "      padding: 0 0 0 0;\n",
              "      width: 32px;\n",
              "    }\n",
              "\n",
              "    .colab-df-convert:hover {\n",
              "      background-color: #E2EBFA;\n",
              "      box-shadow: 0px 1px 2px rgba(60, 64, 67, 0.3), 0px 1px 3px 1px rgba(60, 64, 67, 0.15);\n",
              "      fill: #174EA6;\n",
              "    }\n",
              "\n",
              "    [theme=dark] .colab-df-convert {\n",
              "      background-color: #3B4455;\n",
              "      fill: #D2E3FC;\n",
              "    }\n",
              "\n",
              "    [theme=dark] .colab-df-convert:hover {\n",
              "      background-color: #434B5C;\n",
              "      box-shadow: 0px 1px 3px 1px rgba(0, 0, 0, 0.15);\n",
              "      filter: drop-shadow(0px 1px 2px rgba(0, 0, 0, 0.3));\n",
              "      fill: #FFFFFF;\n",
              "    }\n",
              "  </style>\n",
              "\n",
              "      <script>\n",
              "        const buttonEl =\n",
              "          document.querySelector('#df-7bb772ac-c6d9-4eea-aded-48ee10cc04b1 button.colab-df-convert');\n",
              "        buttonEl.style.display =\n",
              "          google.colab.kernel.accessAllowed ? 'block' : 'none';\n",
              "\n",
              "        async function convertToInteractive(key) {\n",
              "          const element = document.querySelector('#df-7bb772ac-c6d9-4eea-aded-48ee10cc04b1');\n",
              "          const dataTable =\n",
              "            await google.colab.kernel.invokeFunction('convertToInteractive',\n",
              "                                                     [key], {});\n",
              "          if (!dataTable) return;\n",
              "\n",
              "          const docLinkHtml = 'Like what you see? Visit the ' +\n",
              "            '<a target=\"_blank\" href=https://colab.research.google.com/notebooks/data_table.ipynb>data table notebook</a>'\n",
              "            + ' to learn more about interactive tables.';\n",
              "          element.innerHTML = '';\n",
              "          dataTable['output_type'] = 'display_data';\n",
              "          await google.colab.output.renderOutput(dataTable, element);\n",
              "          const docLink = document.createElement('div');\n",
              "          docLink.innerHTML = docLinkHtml;\n",
              "          element.appendChild(docLink);\n",
              "        }\n",
              "      </script>\n",
              "    </div>\n",
              "  </div>\n",
              "  "
            ]
          },
          "metadata": {},
          "execution_count": 6
        }
      ]
    },
    {
      "cell_type": "code",
      "source": [
        "# Pivot the data with the rows: year and columns: indicator\n",
        "\n",
        "pivoted_emp_df = pd.pivot_table(melted_emp_df, index=['Country','Year'], \n",
        "                            columns='Series', values='Value')\n",
        "pivoted_emp_df.columns = ['Informal female', 'Informal male', \n",
        "                          'Formal female', 'Formal male']\n",
        "pivoted_emp_df = pivoted_emp_df.reset_index()\n",
        "pivoted_emp_df.head()"
      ],
      "metadata": {
        "colab": {
          "base_uri": "https://localhost:8080/"
        },
        "id": "iVs1zoh2xXv_",
        "outputId": "5f02dce4-b0fb-402e-d5f9-ff21aa5f3df7"
      },
      "execution_count": null,
      "outputs": [
        {
          "output_type": "execute_result",
          "data": {
            "text/plain": [
              "   Country  Year  Informal female  Informal male  Formal female  Formal male\n",
              "0  Armenia  2003        53.880001      43.919998      46.119999    56.080002\n",
              "1  Armenia  2004        53.020000      43.160000      46.980000    56.840000\n",
              "2  Armenia  2005        52.200001      41.939999      47.799999    58.060001\n",
              "3  Armenia  2006        50.889999      40.590000      49.110001    59.410000\n",
              "4  Armenia  2007        49.169998      38.860001      50.840000    61.139999"
            ],
            "text/html": [
              "\n",
              "  <div id=\"df-e1c49963-bdfc-488e-8988-8e97a5b7d537\">\n",
              "    <div class=\"colab-df-container\">\n",
              "      <div>\n",
              "<style scoped>\n",
              "    .dataframe tbody tr th:only-of-type {\n",
              "        vertical-align: middle;\n",
              "    }\n",
              "\n",
              "    .dataframe tbody tr th {\n",
              "        vertical-align: top;\n",
              "    }\n",
              "\n",
              "    .dataframe thead th {\n",
              "        text-align: right;\n",
              "    }\n",
              "</style>\n",
              "<table border=\"1\" class=\"dataframe\">\n",
              "  <thead>\n",
              "    <tr style=\"text-align: right;\">\n",
              "      <th></th>\n",
              "      <th>Country</th>\n",
              "      <th>Year</th>\n",
              "      <th>Informal female</th>\n",
              "      <th>Informal male</th>\n",
              "      <th>Formal female</th>\n",
              "      <th>Formal male</th>\n",
              "    </tr>\n",
              "  </thead>\n",
              "  <tbody>\n",
              "    <tr>\n",
              "      <th>0</th>\n",
              "      <td>Armenia</td>\n",
              "      <td>2003</td>\n",
              "      <td>53.880001</td>\n",
              "      <td>43.919998</td>\n",
              "      <td>46.119999</td>\n",
              "      <td>56.080002</td>\n",
              "    </tr>\n",
              "    <tr>\n",
              "      <th>1</th>\n",
              "      <td>Armenia</td>\n",
              "      <td>2004</td>\n",
              "      <td>53.020000</td>\n",
              "      <td>43.160000</td>\n",
              "      <td>46.980000</td>\n",
              "      <td>56.840000</td>\n",
              "    </tr>\n",
              "    <tr>\n",
              "      <th>2</th>\n",
              "      <td>Armenia</td>\n",
              "      <td>2005</td>\n",
              "      <td>52.200001</td>\n",
              "      <td>41.939999</td>\n",
              "      <td>47.799999</td>\n",
              "      <td>58.060001</td>\n",
              "    </tr>\n",
              "    <tr>\n",
              "      <th>3</th>\n",
              "      <td>Armenia</td>\n",
              "      <td>2006</td>\n",
              "      <td>50.889999</td>\n",
              "      <td>40.590000</td>\n",
              "      <td>49.110001</td>\n",
              "      <td>59.410000</td>\n",
              "    </tr>\n",
              "    <tr>\n",
              "      <th>4</th>\n",
              "      <td>Armenia</td>\n",
              "      <td>2007</td>\n",
              "      <td>49.169998</td>\n",
              "      <td>38.860001</td>\n",
              "      <td>50.840000</td>\n",
              "      <td>61.139999</td>\n",
              "    </tr>\n",
              "  </tbody>\n",
              "</table>\n",
              "</div>\n",
              "      <button class=\"colab-df-convert\" onclick=\"convertToInteractive('df-e1c49963-bdfc-488e-8988-8e97a5b7d537')\"\n",
              "              title=\"Convert this dataframe to an interactive table.\"\n",
              "              style=\"display:none;\">\n",
              "        \n",
              "  <svg xmlns=\"http://www.w3.org/2000/svg\" height=\"24px\"viewBox=\"0 0 24 24\"\n",
              "       width=\"24px\">\n",
              "    <path d=\"M0 0h24v24H0V0z\" fill=\"none\"/>\n",
              "    <path d=\"M18.56 5.44l.94 2.06.94-2.06 2.06-.94-2.06-.94-.94-2.06-.94 2.06-2.06.94zm-11 1L8.5 8.5l.94-2.06 2.06-.94-2.06-.94L8.5 2.5l-.94 2.06-2.06.94zm10 10l.94 2.06.94-2.06 2.06-.94-2.06-.94-.94-2.06-.94 2.06-2.06.94z\"/><path d=\"M17.41 7.96l-1.37-1.37c-.4-.4-.92-.59-1.43-.59-.52 0-1.04.2-1.43.59L10.3 9.45l-7.72 7.72c-.78.78-.78 2.05 0 2.83L4 21.41c.39.39.9.59 1.41.59.51 0 1.02-.2 1.41-.59l7.78-7.78 2.81-2.81c.8-.78.8-2.07 0-2.86zM5.41 20L4 18.59l7.72-7.72 1.47 1.35L5.41 20z\"/>\n",
              "  </svg>\n",
              "      </button>\n",
              "      \n",
              "  <style>\n",
              "    .colab-df-container {\n",
              "      display:flex;\n",
              "      flex-wrap:wrap;\n",
              "      gap: 12px;\n",
              "    }\n",
              "\n",
              "    .colab-df-convert {\n",
              "      background-color: #E8F0FE;\n",
              "      border: none;\n",
              "      border-radius: 50%;\n",
              "      cursor: pointer;\n",
              "      display: none;\n",
              "      fill: #1967D2;\n",
              "      height: 32px;\n",
              "      padding: 0 0 0 0;\n",
              "      width: 32px;\n",
              "    }\n",
              "\n",
              "    .colab-df-convert:hover {\n",
              "      background-color: #E2EBFA;\n",
              "      box-shadow: 0px 1px 2px rgba(60, 64, 67, 0.3), 0px 1px 3px 1px rgba(60, 64, 67, 0.15);\n",
              "      fill: #174EA6;\n",
              "    }\n",
              "\n",
              "    [theme=dark] .colab-df-convert {\n",
              "      background-color: #3B4455;\n",
              "      fill: #D2E3FC;\n",
              "    }\n",
              "\n",
              "    [theme=dark] .colab-df-convert:hover {\n",
              "      background-color: #434B5C;\n",
              "      box-shadow: 0px 1px 3px 1px rgba(0, 0, 0, 0.15);\n",
              "      filter: drop-shadow(0px 1px 2px rgba(0, 0, 0, 0.3));\n",
              "      fill: #FFFFFF;\n",
              "    }\n",
              "  </style>\n",
              "\n",
              "      <script>\n",
              "        const buttonEl =\n",
              "          document.querySelector('#df-e1c49963-bdfc-488e-8988-8e97a5b7d537 button.colab-df-convert');\n",
              "        buttonEl.style.display =\n",
              "          google.colab.kernel.accessAllowed ? 'block' : 'none';\n",
              "\n",
              "        async function convertToInteractive(key) {\n",
              "          const element = document.querySelector('#df-e1c49963-bdfc-488e-8988-8e97a5b7d537');\n",
              "          const dataTable =\n",
              "            await google.colab.kernel.invokeFunction('convertToInteractive',\n",
              "                                                     [key], {});\n",
              "          if (!dataTable) return;\n",
              "\n",
              "          const docLinkHtml = 'Like what you see? Visit the ' +\n",
              "            '<a target=\"_blank\" href=https://colab.research.google.com/notebooks/data_table.ipynb>data table notebook</a>'\n",
              "            + ' to learn more about interactive tables.';\n",
              "          element.innerHTML = '';\n",
              "          dataTable['output_type'] = 'display_data';\n",
              "          await google.colab.output.renderOutput(dataTable, element);\n",
              "          const docLink = document.createElement('div');\n",
              "          docLink.innerHTML = docLinkHtml;\n",
              "          element.appendChild(docLink);\n",
              "        }\n",
              "      </script>\n",
              "    </div>\n",
              "  </div>\n",
              "  "
            ]
          },
          "metadata": {},
          "execution_count": 7
        }
      ]
    },
    {
      "cell_type": "code",
      "source": [
        "pivoted_emp_df.to_excel(\"Clean_formal_employer.xlsx\", index=False)"
      ],
      "metadata": {
        "id": "trws0Ejpyesn"
      },
      "execution_count": null,
      "outputs": []
    },
    {
      "cell_type": "markdown",
      "metadata": {
        "id": "8RxNDsZr_M6z"
      },
      "source": [
        "## Prepare Decision Making Factor Data"
      ]
    },
    {
      "cell_type": "code",
      "execution_count": null,
      "metadata": {
        "colab": {
          "base_uri": "https://localhost:8080/",
          "height": 249
        },
        "id": "yqDd7Ll3ePT7",
        "outputId": "a898c6f0-a5c0-47f0-9cce-38b5f9cc977c"
      },
      "outputs": [
        {
          "output_type": "stream",
          "name": "stderr",
          "text": [
            "Unknown extension is not supported and will be removed\n"
          ]
        },
        {
          "output_type": "execute_result",
          "data": {
            "text/plain": [
              "                                         Series Name        Series Code  \\\n",
              "0  Employers, female (% of female employment) (mo...  SL.EMP.MPYR.FE.ZS   \n",
              "\n",
              "  Country Name Country Code  2003 [YR2003]  2004 [YR2004]  2005 [YR2005]  \\\n",
              "0      Armenia          ARM           0.05           0.06           0.07   \n",
              "\n",
              "   2006 [YR2006]  2007 [YR2007]  2008 [YR2008]  2009 [YR2009]  2010 [YR2010]  \\\n",
              "0           0.08           0.09           0.09           0.09           0.13   \n",
              "\n",
              "   2011 [YR2011]  2012 [YR2012]  2013 [YR2013]  2014 [YR2014]  2015 [YR2015]  \\\n",
              "0           0.29           0.23           0.18           0.56           0.34   \n",
              "\n",
              "   2016 [YR2016]  2017 [YR2017]  2018 [YR2018]  \n",
              "0            0.4           0.52           0.31  "
            ],
            "text/html": [
              "\n",
              "  <div id=\"df-432342b5-c78d-41ea-8b9e-189fa8655ec7\">\n",
              "    <div class=\"colab-df-container\">\n",
              "      <div>\n",
              "<style scoped>\n",
              "    .dataframe tbody tr th:only-of-type {\n",
              "        vertical-align: middle;\n",
              "    }\n",
              "\n",
              "    .dataframe tbody tr th {\n",
              "        vertical-align: top;\n",
              "    }\n",
              "\n",
              "    .dataframe thead th {\n",
              "        text-align: right;\n",
              "    }\n",
              "</style>\n",
              "<table border=\"1\" class=\"dataframe\">\n",
              "  <thead>\n",
              "    <tr style=\"text-align: right;\">\n",
              "      <th></th>\n",
              "      <th>Series Name</th>\n",
              "      <th>Series Code</th>\n",
              "      <th>Country Name</th>\n",
              "      <th>Country Code</th>\n",
              "      <th>2003 [YR2003]</th>\n",
              "      <th>2004 [YR2004]</th>\n",
              "      <th>2005 [YR2005]</th>\n",
              "      <th>2006 [YR2006]</th>\n",
              "      <th>2007 [YR2007]</th>\n",
              "      <th>2008 [YR2008]</th>\n",
              "      <th>2009 [YR2009]</th>\n",
              "      <th>2010 [YR2010]</th>\n",
              "      <th>2011 [YR2011]</th>\n",
              "      <th>2012 [YR2012]</th>\n",
              "      <th>2013 [YR2013]</th>\n",
              "      <th>2014 [YR2014]</th>\n",
              "      <th>2015 [YR2015]</th>\n",
              "      <th>2016 [YR2016]</th>\n",
              "      <th>2017 [YR2017]</th>\n",
              "      <th>2018 [YR2018]</th>\n",
              "    </tr>\n",
              "  </thead>\n",
              "  <tbody>\n",
              "    <tr>\n",
              "      <th>0</th>\n",
              "      <td>Employers, female (% of female employment) (mo...</td>\n",
              "      <td>SL.EMP.MPYR.FE.ZS</td>\n",
              "      <td>Armenia</td>\n",
              "      <td>ARM</td>\n",
              "      <td>0.05</td>\n",
              "      <td>0.06</td>\n",
              "      <td>0.07</td>\n",
              "      <td>0.08</td>\n",
              "      <td>0.09</td>\n",
              "      <td>0.09</td>\n",
              "      <td>0.09</td>\n",
              "      <td>0.13</td>\n",
              "      <td>0.29</td>\n",
              "      <td>0.23</td>\n",
              "      <td>0.18</td>\n",
              "      <td>0.56</td>\n",
              "      <td>0.34</td>\n",
              "      <td>0.4</td>\n",
              "      <td>0.52</td>\n",
              "      <td>0.31</td>\n",
              "    </tr>\n",
              "  </tbody>\n",
              "</table>\n",
              "</div>\n",
              "      <button class=\"colab-df-convert\" onclick=\"convertToInteractive('df-432342b5-c78d-41ea-8b9e-189fa8655ec7')\"\n",
              "              title=\"Convert this dataframe to an interactive table.\"\n",
              "              style=\"display:none;\">\n",
              "        \n",
              "  <svg xmlns=\"http://www.w3.org/2000/svg\" height=\"24px\"viewBox=\"0 0 24 24\"\n",
              "       width=\"24px\">\n",
              "    <path d=\"M0 0h24v24H0V0z\" fill=\"none\"/>\n",
              "    <path d=\"M18.56 5.44l.94 2.06.94-2.06 2.06-.94-2.06-.94-.94-2.06-.94 2.06-2.06.94zm-11 1L8.5 8.5l.94-2.06 2.06-.94-2.06-.94L8.5 2.5l-.94 2.06-2.06.94zm10 10l.94 2.06.94-2.06 2.06-.94-2.06-.94-.94-2.06-.94 2.06-2.06.94z\"/><path d=\"M17.41 7.96l-1.37-1.37c-.4-.4-.92-.59-1.43-.59-.52 0-1.04.2-1.43.59L10.3 9.45l-7.72 7.72c-.78.78-.78 2.05 0 2.83L4 21.41c.39.39.9.59 1.41.59.51 0 1.02-.2 1.41-.59l7.78-7.78 2.81-2.81c.8-.78.8-2.07 0-2.86zM5.41 20L4 18.59l7.72-7.72 1.47 1.35L5.41 20z\"/>\n",
              "  </svg>\n",
              "      </button>\n",
              "      \n",
              "  <style>\n",
              "    .colab-df-container {\n",
              "      display:flex;\n",
              "      flex-wrap:wrap;\n",
              "      gap: 12px;\n",
              "    }\n",
              "\n",
              "    .colab-df-convert {\n",
              "      background-color: #E8F0FE;\n",
              "      border: none;\n",
              "      border-radius: 50%;\n",
              "      cursor: pointer;\n",
              "      display: none;\n",
              "      fill: #1967D2;\n",
              "      height: 32px;\n",
              "      padding: 0 0 0 0;\n",
              "      width: 32px;\n",
              "    }\n",
              "\n",
              "    .colab-df-convert:hover {\n",
              "      background-color: #E2EBFA;\n",
              "      box-shadow: 0px 1px 2px rgba(60, 64, 67, 0.3), 0px 1px 3px 1px rgba(60, 64, 67, 0.15);\n",
              "      fill: #174EA6;\n",
              "    }\n",
              "\n",
              "    [theme=dark] .colab-df-convert {\n",
              "      background-color: #3B4455;\n",
              "      fill: #D2E3FC;\n",
              "    }\n",
              "\n",
              "    [theme=dark] .colab-df-convert:hover {\n",
              "      background-color: #434B5C;\n",
              "      box-shadow: 0px 1px 3px 1px rgba(0, 0, 0, 0.15);\n",
              "      filter: drop-shadow(0px 1px 2px rgba(0, 0, 0, 0.3));\n",
              "      fill: #FFFFFF;\n",
              "    }\n",
              "  </style>\n",
              "\n",
              "      <script>\n",
              "        const buttonEl =\n",
              "          document.querySelector('#df-432342b5-c78d-41ea-8b9e-189fa8655ec7 button.colab-df-convert');\n",
              "        buttonEl.style.display =\n",
              "          google.colab.kernel.accessAllowed ? 'block' : 'none';\n",
              "\n",
              "        async function convertToInteractive(key) {\n",
              "          const element = document.querySelector('#df-432342b5-c78d-41ea-8b9e-189fa8655ec7');\n",
              "          const dataTable =\n",
              "            await google.colab.kernel.invokeFunction('convertToInteractive',\n",
              "                                                     [key], {});\n",
              "          if (!dataTable) return;\n",
              "\n",
              "          const docLinkHtml = 'Like what you see? Visit the ' +\n",
              "            '<a target=\"_blank\" href=https://colab.research.google.com/notebooks/data_table.ipynb>data table notebook</a>'\n",
              "            + ' to learn more about interactive tables.';\n",
              "          element.innerHTML = '';\n",
              "          dataTable['output_type'] = 'display_data';\n",
              "          await google.colab.output.renderOutput(dataTable, element);\n",
              "          const docLink = document.createElement('div');\n",
              "          docLink.innerHTML = docLinkHtml;\n",
              "          element.appendChild(docLink);\n",
              "        }\n",
              "      </script>\n",
              "    </div>\n",
              "  </div>\n",
              "  "
            ]
          },
          "metadata": {},
          "execution_count": 18
        }
      ],
      "source": [
        "df_factor = load_data(\"1tFGpPXsRu4VSi0NO_nrSKjRe0xQCgzyn\") # Decision making factor\n",
        "df_factor.head(1) # Preview"
      ]
    },
    {
      "cell_type": "code",
      "execution_count": null,
      "metadata": {
        "id": "7vZh890m6UpN"
      },
      "outputs": [],
      "source": [
        "# Split dataframe to 9 different indicators\n",
        "# These indicators have a high correlation with decision making\n",
        "# And will be used in imputation regression\n",
        "factors = {\"employers\":0, \"literacy\":0, \"parliement\":0, \"ministerial\":0, \"primary\":0, \n",
        "            \"secondary\":0, \"tertiary\":0, \"startup_proc\":0, \"time_business\":0}\n",
        "\n",
        "for key ,n in zip(factors.keys(),range(df_factor['Series Name'].nunique())):\n",
        "    factor = df_factor['Series Name']\n",
        "    factors[key] = df_factor[factor == factor.unique()[n]]"
      ]
    },
    {
      "cell_type": "code",
      "execution_count": null,
      "metadata": {
        "colab": {
          "base_uri": "https://localhost:8080/"
        },
        "id": "ivn_8Gwk7USm",
        "outputId": "c94aa88a-c427-4f48-d9db-d7335c031184"
      },
      "outputs": [
        {
          "output_type": "stream",
          "name": "stdout",
          "text": [
            "employers : 0\n",
            "literacy : 33\n",
            "parliement : 323\n",
            "ministerial : 15\n",
            "primary : 229\n",
            "secondary : 208\n",
            "tertiary : 236\n",
            "startup_proc : 132\n",
            "time_business : 33\n"
          ]
        }
      ],
      "source": [
        "# These indicators have some missing value\n",
        "for i,j in factors.items():\n",
        "  print(i,\":\",j.isnull().sum().sum())"
      ]
    },
    {
      "cell_type": "code",
      "execution_count": null,
      "metadata": {
        "colab": {
          "base_uri": "https://localhost:8080/",
          "height": 131
        },
        "id": "2Xwbr2DqGfsl",
        "outputId": "10161823-57da-4d58-e46a-bb1acf3345fc"
      },
      "outputs": [
        {
          "output_type": "execute_result",
          "data": {
            "text/plain": [
              "Empty DataFrame\n",
              "Columns: [Series Name, Series Code, Country Name, Country Code, 2003 [YR2003], 2004 [YR2004], 2005 [YR2005], 2006 [YR2006], 2007 [YR2007], 2008 [YR2008], 2009 [YR2009], 2010 [YR2010], 2011 [YR2011], 2012 [YR2012], 2013 [YR2013], 2014 [YR2014], 2015 [YR2015], 2016 [YR2016], 2017 [YR2017], 2018 [YR2018]]\n",
              "Index: []"
            ],
            "text/html": [
              "\n",
              "  <div id=\"df-c2ad6a0d-a31e-41d9-b58e-7a1ada5a8778\">\n",
              "    <div class=\"colab-df-container\">\n",
              "      <div>\n",
              "<style scoped>\n",
              "    .dataframe tbody tr th:only-of-type {\n",
              "        vertical-align: middle;\n",
              "    }\n",
              "\n",
              "    .dataframe tbody tr th {\n",
              "        vertical-align: top;\n",
              "    }\n",
              "\n",
              "    .dataframe thead th {\n",
              "        text-align: right;\n",
              "    }\n",
              "</style>\n",
              "<table border=\"1\" class=\"dataframe\">\n",
              "  <thead>\n",
              "    <tr style=\"text-align: right;\">\n",
              "      <th></th>\n",
              "      <th>Series Name</th>\n",
              "      <th>Series Code</th>\n",
              "      <th>Country Name</th>\n",
              "      <th>Country Code</th>\n",
              "      <th>2003 [YR2003]</th>\n",
              "      <th>2004 [YR2004]</th>\n",
              "      <th>2005 [YR2005]</th>\n",
              "      <th>2006 [YR2006]</th>\n",
              "      <th>2007 [YR2007]</th>\n",
              "      <th>2008 [YR2008]</th>\n",
              "      <th>2009 [YR2009]</th>\n",
              "      <th>2010 [YR2010]</th>\n",
              "      <th>2011 [YR2011]</th>\n",
              "      <th>2012 [YR2012]</th>\n",
              "      <th>2013 [YR2013]</th>\n",
              "      <th>2014 [YR2014]</th>\n",
              "      <th>2015 [YR2015]</th>\n",
              "      <th>2016 [YR2016]</th>\n",
              "      <th>2017 [YR2017]</th>\n",
              "      <th>2018 [YR2018]</th>\n",
              "    </tr>\n",
              "  </thead>\n",
              "  <tbody>\n",
              "  </tbody>\n",
              "</table>\n",
              "</div>\n",
              "      <button class=\"colab-df-convert\" onclick=\"convertToInteractive('df-c2ad6a0d-a31e-41d9-b58e-7a1ada5a8778')\"\n",
              "              title=\"Convert this dataframe to an interactive table.\"\n",
              "              style=\"display:none;\">\n",
              "        \n",
              "  <svg xmlns=\"http://www.w3.org/2000/svg\" height=\"24px\"viewBox=\"0 0 24 24\"\n",
              "       width=\"24px\">\n",
              "    <path d=\"M0 0h24v24H0V0z\" fill=\"none\"/>\n",
              "    <path d=\"M18.56 5.44l.94 2.06.94-2.06 2.06-.94-2.06-.94-.94-2.06-.94 2.06-2.06.94zm-11 1L8.5 8.5l.94-2.06 2.06-.94-2.06-.94L8.5 2.5l-.94 2.06-2.06.94zm10 10l.94 2.06.94-2.06 2.06-.94-2.06-.94-.94-2.06-.94 2.06-2.06.94z\"/><path d=\"M17.41 7.96l-1.37-1.37c-.4-.4-.92-.59-1.43-.59-.52 0-1.04.2-1.43.59L10.3 9.45l-7.72 7.72c-.78.78-.78 2.05 0 2.83L4 21.41c.39.39.9.59 1.41.59.51 0 1.02-.2 1.41-.59l7.78-7.78 2.81-2.81c.8-.78.8-2.07 0-2.86zM5.41 20L4 18.59l7.72-7.72 1.47 1.35L5.41 20z\"/>\n",
              "  </svg>\n",
              "      </button>\n",
              "      \n",
              "  <style>\n",
              "    .colab-df-container {\n",
              "      display:flex;\n",
              "      flex-wrap:wrap;\n",
              "      gap: 12px;\n",
              "    }\n",
              "\n",
              "    .colab-df-convert {\n",
              "      background-color: #E8F0FE;\n",
              "      border: none;\n",
              "      border-radius: 50%;\n",
              "      cursor: pointer;\n",
              "      display: none;\n",
              "      fill: #1967D2;\n",
              "      height: 32px;\n",
              "      padding: 0 0 0 0;\n",
              "      width: 32px;\n",
              "    }\n",
              "\n",
              "    .colab-df-convert:hover {\n",
              "      background-color: #E2EBFA;\n",
              "      box-shadow: 0px 1px 2px rgba(60, 64, 67, 0.3), 0px 1px 3px 1px rgba(60, 64, 67, 0.15);\n",
              "      fill: #174EA6;\n",
              "    }\n",
              "\n",
              "    [theme=dark] .colab-df-convert {\n",
              "      background-color: #3B4455;\n",
              "      fill: #D2E3FC;\n",
              "    }\n",
              "\n",
              "    [theme=dark] .colab-df-convert:hover {\n",
              "      background-color: #434B5C;\n",
              "      box-shadow: 0px 1px 3px 1px rgba(0, 0, 0, 0.15);\n",
              "      filter: drop-shadow(0px 1px 2px rgba(0, 0, 0, 0.3));\n",
              "      fill: #FFFFFF;\n",
              "    }\n",
              "  </style>\n",
              "\n",
              "      <script>\n",
              "        const buttonEl =\n",
              "          document.querySelector('#df-c2ad6a0d-a31e-41d9-b58e-7a1ada5a8778 button.colab-df-convert');\n",
              "        buttonEl.style.display =\n",
              "          google.colab.kernel.accessAllowed ? 'block' : 'none';\n",
              "\n",
              "        async function convertToInteractive(key) {\n",
              "          const element = document.querySelector('#df-c2ad6a0d-a31e-41d9-b58e-7a1ada5a8778');\n",
              "          const dataTable =\n",
              "            await google.colab.kernel.invokeFunction('convertToInteractive',\n",
              "                                                     [key], {});\n",
              "          if (!dataTable) return;\n",
              "\n",
              "          const docLinkHtml = 'Like what you see? Visit the ' +\n",
              "            '<a target=\"_blank\" href=https://colab.research.google.com/notebooks/data_table.ipynb>data table notebook</a>'\n",
              "            + ' to learn more about interactive tables.';\n",
              "          element.innerHTML = '';\n",
              "          dataTable['output_type'] = 'display_data';\n",
              "          await google.colab.output.renderOutput(dataTable, element);\n",
              "          const docLink = document.createElement('div');\n",
              "          docLink.innerHTML = docLinkHtml;\n",
              "          element.appendChild(docLink);\n",
              "        }\n",
              "      </script>\n",
              "    </div>\n",
              "  </div>\n",
              "  "
            ]
          },
          "metadata": {},
          "execution_count": 21
        }
      ],
      "source": [
        "# There is no row that is empty on all of it\n",
        "df_factor[df_factor.iloc[:,4:].isnull().sum(axis=1)==df_factor.shape[1]-4]"
      ]
    },
    {
      "cell_type": "code",
      "execution_count": null,
      "metadata": {
        "colab": {
          "base_uri": "https://localhost:8080/"
        },
        "id": "mDxYbOdE-n1u",
        "outputId": "8271be7e-b0c8-44f1-f701-ee8a9419ab4d"
      },
      "outputs": [
        {
          "output_type": "stream",
          "name": "stderr",
          "text": [
            "[IterativeImputer] Early stopping criterion not reached.\n",
            "[IterativeImputer] Early stopping criterion not reached.\n",
            "[IterativeImputer] Early stopping criterion not reached.\n",
            "[IterativeImputer] Early stopping criterion not reached.\n",
            "[IterativeImputer] Early stopping criterion not reached.\n",
            "[IterativeImputer] Early stopping criterion not reached.\n"
          ]
        }
      ],
      "source": [
        "# Apply iterative imputer with linear regression to impute missing value\n",
        "imputed_factors = {}\n",
        "\n",
        "for key,value in factors.items():\n",
        "  tmp = value.iloc[:,4:].T\n",
        "  imp_mean = IterativeImputer(LinearRegression(), random_state=0, max_iter=1000,\n",
        "                              min_value=0, max_value=100)\n",
        "  clean_tmp = pd.DataFrame(imp_mean.fit_transform(tmp), \n",
        "                          columns=tmp.columns, \n",
        "                          index=tmp.index)\n",
        "  imputed_factors[key] = clean_tmp"
      ]
    },
    {
      "cell_type": "code",
      "execution_count": null,
      "metadata": {
        "id": "X6kennEya37Y"
      },
      "outputs": [],
      "source": [
        "# Merge all imputed dataframe\n",
        "imputed_value = pd.concat([imputed_factors['employers'].T, \n",
        "                imputed_factors['literacy'].T, imputed_factors['parliement'].T, \n",
        "                imputed_factors['ministerial'].T, imputed_factors['primary'].T,\n",
        "                imputed_factors['secondary'].T, imputed_factors['tertiary'].T,\n",
        "                imputed_factors['startup_proc'].T, imputed_factors['time_business'].T])\n",
        "imputed_df_factor = pd.concat([df_factor.iloc[:,:4], imputed_value], axis=1)"
      ]
    },
    {
      "cell_type": "code",
      "execution_count": null,
      "metadata": {
        "id": "rRcrVSG5j3Se"
      },
      "outputs": [],
      "source": [
        "# Save it\n",
        "imputed_df_factor.to_excel(\"imputed_decision_making_factor.xlsx\", index=False)"
      ]
    },
    {
      "cell_type": "markdown",
      "source": [
        "## Prepare Decision Making Data"
      ],
      "metadata": {
        "id": "ttJk_26oXtlP"
      }
    },
    {
      "cell_type": "code",
      "execution_count": null,
      "metadata": {
        "id": "kjjmAB-i1nlM",
        "colab": {
          "base_uri": "https://localhost:8080/"
        },
        "outputId": "08956dd4-dad7-49fa-94fe-81d6155f6d53"
      },
      "outputs": [
        {
          "output_type": "stream",
          "name": "stderr",
          "text": [
            "Unknown extension is not supported and will be removed\n"
          ]
        }
      ],
      "source": [
        "df_factor_clean = load_data(\"1wrGSl4DOW1Es5wrkoTqGa-pRPRGsGJwo\") # Load imputed decision making factor\n",
        "df = load_data(\"1PLb0Ayg5fRLQiBn2bD7J52m_T8ahjXKm\") # Load decision making\n",
        "df_all = pd.concat([df_factor_clean, df], ignore_index=True) # Merge it"
      ]
    },
    {
      "cell_type": "code",
      "execution_count": null,
      "metadata": {
        "colab": {
          "base_uri": "https://localhost:8080/",
          "height": 249
        },
        "id": "yG4JfH2j1rvo",
        "outputId": "be377e4d-1442-4de1-ee83-1e9cecd44426"
      },
      "outputs": [
        {
          "output_type": "execute_result",
          "data": {
            "text/plain": [
              "                                           Series Name     Series Code  \\\n",
              "923  Women, Business and the Law: Mobility Indicato...  SG.LAW.INDX.MO   \n",
              "\n",
              "    Country Name Country Code  2003 [YR2003]  2004 [YR2004]  2005 [YR2005]  \\\n",
              "923     Zimbabwe          ZWE          100.0          100.0          100.0   \n",
              "\n",
              "     2006 [YR2006]  2007 [YR2007]  2008 [YR2008]  2009 [YR2009]  \\\n",
              "923          100.0          100.0          100.0          100.0   \n",
              "\n",
              "     2010 [YR2010]  2011 [YR2011]  2012 [YR2012]  2013 [YR2013]  \\\n",
              "923          100.0          100.0          100.0          100.0   \n",
              "\n",
              "     2014 [YR2014]  2015 [YR2015]  2016 [YR2016]  2017 [YR2017]  2018 [YR2018]  \n",
              "923          100.0          100.0          100.0          100.0          100.0  "
            ],
            "text/html": [
              "\n",
              "  <div id=\"df-76a2d3ea-037d-49cd-81d4-ebcf9f882293\">\n",
              "    <div class=\"colab-df-container\">\n",
              "      <div>\n",
              "<style scoped>\n",
              "    .dataframe tbody tr th:only-of-type {\n",
              "        vertical-align: middle;\n",
              "    }\n",
              "\n",
              "    .dataframe tbody tr th {\n",
              "        vertical-align: top;\n",
              "    }\n",
              "\n",
              "    .dataframe thead th {\n",
              "        text-align: right;\n",
              "    }\n",
              "</style>\n",
              "<table border=\"1\" class=\"dataframe\">\n",
              "  <thead>\n",
              "    <tr style=\"text-align: right;\">\n",
              "      <th></th>\n",
              "      <th>Series Name</th>\n",
              "      <th>Series Code</th>\n",
              "      <th>Country Name</th>\n",
              "      <th>Country Code</th>\n",
              "      <th>2003 [YR2003]</th>\n",
              "      <th>2004 [YR2004]</th>\n",
              "      <th>2005 [YR2005]</th>\n",
              "      <th>2006 [YR2006]</th>\n",
              "      <th>2007 [YR2007]</th>\n",
              "      <th>2008 [YR2008]</th>\n",
              "      <th>2009 [YR2009]</th>\n",
              "      <th>2010 [YR2010]</th>\n",
              "      <th>2011 [YR2011]</th>\n",
              "      <th>2012 [YR2012]</th>\n",
              "      <th>2013 [YR2013]</th>\n",
              "      <th>2014 [YR2014]</th>\n",
              "      <th>2015 [YR2015]</th>\n",
              "      <th>2016 [YR2016]</th>\n",
              "      <th>2017 [YR2017]</th>\n",
              "      <th>2018 [YR2018]</th>\n",
              "    </tr>\n",
              "  </thead>\n",
              "  <tbody>\n",
              "    <tr>\n",
              "      <th>923</th>\n",
              "      <td>Women, Business and the Law: Mobility Indicato...</td>\n",
              "      <td>SG.LAW.INDX.MO</td>\n",
              "      <td>Zimbabwe</td>\n",
              "      <td>ZWE</td>\n",
              "      <td>100.0</td>\n",
              "      <td>100.0</td>\n",
              "      <td>100.0</td>\n",
              "      <td>100.0</td>\n",
              "      <td>100.0</td>\n",
              "      <td>100.0</td>\n",
              "      <td>100.0</td>\n",
              "      <td>100.0</td>\n",
              "      <td>100.0</td>\n",
              "      <td>100.0</td>\n",
              "      <td>100.0</td>\n",
              "      <td>100.0</td>\n",
              "      <td>100.0</td>\n",
              "      <td>100.0</td>\n",
              "      <td>100.0</td>\n",
              "      <td>100.0</td>\n",
              "    </tr>\n",
              "  </tbody>\n",
              "</table>\n",
              "</div>\n",
              "      <button class=\"colab-df-convert\" onclick=\"convertToInteractive('df-76a2d3ea-037d-49cd-81d4-ebcf9f882293')\"\n",
              "              title=\"Convert this dataframe to an interactive table.\"\n",
              "              style=\"display:none;\">\n",
              "        \n",
              "  <svg xmlns=\"http://www.w3.org/2000/svg\" height=\"24px\"viewBox=\"0 0 24 24\"\n",
              "       width=\"24px\">\n",
              "    <path d=\"M0 0h24v24H0V0z\" fill=\"none\"/>\n",
              "    <path d=\"M18.56 5.44l.94 2.06.94-2.06 2.06-.94-2.06-.94-.94-2.06-.94 2.06-2.06.94zm-11 1L8.5 8.5l.94-2.06 2.06-.94-2.06-.94L8.5 2.5l-.94 2.06-2.06.94zm10 10l.94 2.06.94-2.06 2.06-.94-2.06-.94-.94-2.06-.94 2.06-2.06.94z\"/><path d=\"M17.41 7.96l-1.37-1.37c-.4-.4-.92-.59-1.43-.59-.52 0-1.04.2-1.43.59L10.3 9.45l-7.72 7.72c-.78.78-.78 2.05 0 2.83L4 21.41c.39.39.9.59 1.41.59.51 0 1.02-.2 1.41-.59l7.78-7.78 2.81-2.81c.8-.78.8-2.07 0-2.86zM5.41 20L4 18.59l7.72-7.72 1.47 1.35L5.41 20z\"/>\n",
              "  </svg>\n",
              "      </button>\n",
              "      \n",
              "  <style>\n",
              "    .colab-df-container {\n",
              "      display:flex;\n",
              "      flex-wrap:wrap;\n",
              "      gap: 12px;\n",
              "    }\n",
              "\n",
              "    .colab-df-convert {\n",
              "      background-color: #E8F0FE;\n",
              "      border: none;\n",
              "      border-radius: 50%;\n",
              "      cursor: pointer;\n",
              "      display: none;\n",
              "      fill: #1967D2;\n",
              "      height: 32px;\n",
              "      padding: 0 0 0 0;\n",
              "      width: 32px;\n",
              "    }\n",
              "\n",
              "    .colab-df-convert:hover {\n",
              "      background-color: #E2EBFA;\n",
              "      box-shadow: 0px 1px 2px rgba(60, 64, 67, 0.3), 0px 1px 3px 1px rgba(60, 64, 67, 0.15);\n",
              "      fill: #174EA6;\n",
              "    }\n",
              "\n",
              "    [theme=dark] .colab-df-convert {\n",
              "      background-color: #3B4455;\n",
              "      fill: #D2E3FC;\n",
              "    }\n",
              "\n",
              "    [theme=dark] .colab-df-convert:hover {\n",
              "      background-color: #434B5C;\n",
              "      box-shadow: 0px 1px 3px 1px rgba(0, 0, 0, 0.15);\n",
              "      filter: drop-shadow(0px 1px 2px rgba(0, 0, 0, 0.3));\n",
              "      fill: #FFFFFF;\n",
              "    }\n",
              "  </style>\n",
              "\n",
              "      <script>\n",
              "        const buttonEl =\n",
              "          document.querySelector('#df-76a2d3ea-037d-49cd-81d4-ebcf9f882293 button.colab-df-convert');\n",
              "        buttonEl.style.display =\n",
              "          google.colab.kernel.accessAllowed ? 'block' : 'none';\n",
              "\n",
              "        async function convertToInteractive(key) {\n",
              "          const element = document.querySelector('#df-76a2d3ea-037d-49cd-81d4-ebcf9f882293');\n",
              "          const dataTable =\n",
              "            await google.colab.kernel.invokeFunction('convertToInteractive',\n",
              "                                                     [key], {});\n",
              "          if (!dataTable) return;\n",
              "\n",
              "          const docLinkHtml = 'Like what you see? Visit the ' +\n",
              "            '<a target=\"_blank\" href=https://colab.research.google.com/notebooks/data_table.ipynb>data table notebook</a>'\n",
              "            + ' to learn more about interactive tables.';\n",
              "          element.innerHTML = '';\n",
              "          dataTable['output_type'] = 'display_data';\n",
              "          await google.colab.output.renderOutput(dataTable, element);\n",
              "          const docLink = document.createElement('div');\n",
              "          docLink.innerHTML = docLinkHtml;\n",
              "          element.appendChild(docLink);\n",
              "        }\n",
              "      </script>\n",
              "    </div>\n",
              "  </div>\n",
              "  "
            ]
          },
          "metadata": {},
          "execution_count": 6
        }
      ],
      "source": [
        "df_all.tail(1) # Preview"
      ]
    },
    {
      "cell_type": "code",
      "source": [
        "# No rows that contain all missing value\n",
        "df[df.iloc[:,4:].isnull().sum(axis=1)==df.shape[1]-4]"
      ],
      "metadata": {
        "colab": {
          "base_uri": "https://localhost:8080/",
          "height": 131
        },
        "id": "x7AFLjjOs68t",
        "outputId": "be665c2f-92d1-4a03-8d7d-1197d2d8e54f"
      },
      "execution_count": null,
      "outputs": [
        {
          "output_type": "execute_result",
          "data": {
            "text/plain": [
              "Empty DataFrame\n",
              "Columns: [Series Name, Series Code, Country Name, Country Code, 2003 [YR2003], 2004 [YR2004], 2005 [YR2005], 2006 [YR2006], 2007 [YR2007], 2008 [YR2008], 2009 [YR2009], 2010 [YR2010], 2011 [YR2011], 2012 [YR2012], 2013 [YR2013], 2014 [YR2014], 2015 [YR2015], 2016 [YR2016], 2017 [YR2017], 2018 [YR2018]]\n",
              "Index: []"
            ],
            "text/html": [
              "\n",
              "  <div id=\"df-9548d42a-feb2-4c3a-af5c-9b7d9ea19d51\">\n",
              "    <div class=\"colab-df-container\">\n",
              "      <div>\n",
              "<style scoped>\n",
              "    .dataframe tbody tr th:only-of-type {\n",
              "        vertical-align: middle;\n",
              "    }\n",
              "\n",
              "    .dataframe tbody tr th {\n",
              "        vertical-align: top;\n",
              "    }\n",
              "\n",
              "    .dataframe thead th {\n",
              "        text-align: right;\n",
              "    }\n",
              "</style>\n",
              "<table border=\"1\" class=\"dataframe\">\n",
              "  <thead>\n",
              "    <tr style=\"text-align: right;\">\n",
              "      <th></th>\n",
              "      <th>Series Name</th>\n",
              "      <th>Series Code</th>\n",
              "      <th>Country Name</th>\n",
              "      <th>Country Code</th>\n",
              "      <th>2003 [YR2003]</th>\n",
              "      <th>2004 [YR2004]</th>\n",
              "      <th>2005 [YR2005]</th>\n",
              "      <th>2006 [YR2006]</th>\n",
              "      <th>2007 [YR2007]</th>\n",
              "      <th>2008 [YR2008]</th>\n",
              "      <th>2009 [YR2009]</th>\n",
              "      <th>2010 [YR2010]</th>\n",
              "      <th>2011 [YR2011]</th>\n",
              "      <th>2012 [YR2012]</th>\n",
              "      <th>2013 [YR2013]</th>\n",
              "      <th>2014 [YR2014]</th>\n",
              "      <th>2015 [YR2015]</th>\n",
              "      <th>2016 [YR2016]</th>\n",
              "      <th>2017 [YR2017]</th>\n",
              "      <th>2018 [YR2018]</th>\n",
              "    </tr>\n",
              "  </thead>\n",
              "  <tbody>\n",
              "  </tbody>\n",
              "</table>\n",
              "</div>\n",
              "      <button class=\"colab-df-convert\" onclick=\"convertToInteractive('df-9548d42a-feb2-4c3a-af5c-9b7d9ea19d51')\"\n",
              "              title=\"Convert this dataframe to an interactive table.\"\n",
              "              style=\"display:none;\">\n",
              "        \n",
              "  <svg xmlns=\"http://www.w3.org/2000/svg\" height=\"24px\"viewBox=\"0 0 24 24\"\n",
              "       width=\"24px\">\n",
              "    <path d=\"M0 0h24v24H0V0z\" fill=\"none\"/>\n",
              "    <path d=\"M18.56 5.44l.94 2.06.94-2.06 2.06-.94-2.06-.94-.94-2.06-.94 2.06-2.06.94zm-11 1L8.5 8.5l.94-2.06 2.06-.94-2.06-.94L8.5 2.5l-.94 2.06-2.06.94zm10 10l.94 2.06.94-2.06 2.06-.94-2.06-.94-.94-2.06-.94 2.06-2.06.94z\"/><path d=\"M17.41 7.96l-1.37-1.37c-.4-.4-.92-.59-1.43-.59-.52 0-1.04.2-1.43.59L10.3 9.45l-7.72 7.72c-.78.78-.78 2.05 0 2.83L4 21.41c.39.39.9.59 1.41.59.51 0 1.02-.2 1.41-.59l7.78-7.78 2.81-2.81c.8-.78.8-2.07 0-2.86zM5.41 20L4 18.59l7.72-7.72 1.47 1.35L5.41 20z\"/>\n",
              "  </svg>\n",
              "      </button>\n",
              "      \n",
              "  <style>\n",
              "    .colab-df-container {\n",
              "      display:flex;\n",
              "      flex-wrap:wrap;\n",
              "      gap: 12px;\n",
              "    }\n",
              "\n",
              "    .colab-df-convert {\n",
              "      background-color: #E8F0FE;\n",
              "      border: none;\n",
              "      border-radius: 50%;\n",
              "      cursor: pointer;\n",
              "      display: none;\n",
              "      fill: #1967D2;\n",
              "      height: 32px;\n",
              "      padding: 0 0 0 0;\n",
              "      width: 32px;\n",
              "    }\n",
              "\n",
              "    .colab-df-convert:hover {\n",
              "      background-color: #E2EBFA;\n",
              "      box-shadow: 0px 1px 2px rgba(60, 64, 67, 0.3), 0px 1px 3px 1px rgba(60, 64, 67, 0.15);\n",
              "      fill: #174EA6;\n",
              "    }\n",
              "\n",
              "    [theme=dark] .colab-df-convert {\n",
              "      background-color: #3B4455;\n",
              "      fill: #D2E3FC;\n",
              "    }\n",
              "\n",
              "    [theme=dark] .colab-df-convert:hover {\n",
              "      background-color: #434B5C;\n",
              "      box-shadow: 0px 1px 3px 1px rgba(0, 0, 0, 0.15);\n",
              "      filter: drop-shadow(0px 1px 2px rgba(0, 0, 0, 0.3));\n",
              "      fill: #FFFFFF;\n",
              "    }\n",
              "  </style>\n",
              "\n",
              "      <script>\n",
              "        const buttonEl =\n",
              "          document.querySelector('#df-9548d42a-feb2-4c3a-af5c-9b7d9ea19d51 button.colab-df-convert');\n",
              "        buttonEl.style.display =\n",
              "          google.colab.kernel.accessAllowed ? 'block' : 'none';\n",
              "\n",
              "        async function convertToInteractive(key) {\n",
              "          const element = document.querySelector('#df-9548d42a-feb2-4c3a-af5c-9b7d9ea19d51');\n",
              "          const dataTable =\n",
              "            await google.colab.kernel.invokeFunction('convertToInteractive',\n",
              "                                                     [key], {});\n",
              "          if (!dataTable) return;\n",
              "\n",
              "          const docLinkHtml = 'Like what you see? Visit the ' +\n",
              "            '<a target=\"_blank\" href=https://colab.research.google.com/notebooks/data_table.ipynb>data table notebook</a>'\n",
              "            + ' to learn more about interactive tables.';\n",
              "          element.innerHTML = '';\n",
              "          dataTable['output_type'] = 'display_data';\n",
              "          await google.colab.output.renderOutput(dataTable, element);\n",
              "          const docLink = document.createElement('div');\n",
              "          docLink.innerHTML = docLinkHtml;\n",
              "          element.appendChild(docLink);\n",
              "        }\n",
              "      </script>\n",
              "    </div>\n",
              "  </div>\n",
              "  "
            ]
          },
          "metadata": {},
          "execution_count": 19
        }
      ]
    },
    {
      "cell_type": "code",
      "execution_count": null,
      "metadata": {
        "id": "PNl0aINbkDTl"
      },
      "outputs": [],
      "source": [
        "# Split dataframe based on countries\n",
        "countries = {}\n",
        "for i in df['Country Name'].unique():\n",
        "  countries[i] = df_all[df_all['Country Name']==i]"
      ]
    },
    {
      "cell_type": "code",
      "execution_count": null,
      "metadata": {
        "colab": {
          "base_uri": "https://localhost:8080/"
        },
        "id": "UKSUC2GcDy0n",
        "outputId": "1dc81b14-f0be-4400-9dfe-6f341aa65197"
      },
      "outputs": [
        {
          "output_type": "stream",
          "name": "stderr",
          "text": [
            "[IterativeImputer] Early stopping criterion not reached.\n",
            "[IterativeImputer] Early stopping criterion not reached.\n"
          ]
        }
      ],
      "source": [
        "# Apply iterative imputer to impute missing value with decision making factor\n",
        "\n",
        "imputed_countries = {}\n",
        "\n",
        "for key,value in countries.items():\n",
        "  tmp = value.iloc[:,4:].T\n",
        "  imp_mean = IterativeImputer(LinearRegression(), random_state=0, max_iter=1000,\n",
        "                              min_value=0, max_value=100)\n",
        "  clean_tmp = pd.DataFrame(imp_mean.fit_transform(tmp), \n",
        "                          columns=tmp.columns, \n",
        "                          index=tmp.index)\n",
        "  imputed_countries[key] = clean_tmp.T"
      ]
    },
    {
      "cell_type": "code",
      "source": [
        "# Example imputed data\n",
        "temp = imputed_countries[list(imputed_countries.keys())[0]]\n",
        "temp.head()"
      ],
      "metadata": {
        "colab": {
          "base_uri": "https://localhost:8080/",
          "height": 287
        },
        "id": "SLV3SC52v0eG",
        "outputId": "01db1665-55d0-4cd0-a99a-3658b3d58311"
      },
      "execution_count": null,
      "outputs": [
        {
          "output_type": "execute_result",
          "data": {
            "text/plain": [
              "   2003 [YR2003]  2004 [YR2004]  2005 [YR2005]  2006 [YR2006]  2007 [YR2007]  \\\n",
              "0       0.050000       0.060000       0.070000       0.080000       0.090000   \n",
              "1      99.689119      99.691432      99.686960      99.691262      99.696851   \n",
              "2       4.580153       5.343511       5.343511       5.343511       9.160305   \n",
              "3       9.876856       9.876856      11.114847       9.876856       9.876856   \n",
              "4      83.048990      85.151363      82.180230      84.907010      89.249420   \n",
              "\n",
              "   2008 [YR2008]  2009 [YR2009]  2010 [YR2010]  2011 [YR2011]  2012 [YR2012]  \\\n",
              "0       0.090000       0.090000       0.130000       0.290000       0.230000   \n",
              "1      99.690515      99.691436      99.680781      99.690353      99.695075   \n",
              "2       8.396947       9.160305       9.160305       8.396947      10.687023   \n",
              "3       5.900000       9.876856      11.100000       9.876856      10.500000   \n",
              "4      87.073452      86.938194      90.478953      95.761670      96.881210   \n",
              "\n",
              "   2013 [YR2013]  2014 [YR2014]  2015 [YR2015]  2016 [YR2016]  2017 [YR2017]  \\\n",
              "0       0.180000       0.560000       0.340000       0.400000       0.520000   \n",
              "1      99.688376      99.690998      99.688031      99.682833      99.677162   \n",
              "2      10.687023      10.687023      10.687023      10.687023      18.095238   \n",
              "3       9.876856      11.100000      11.100000      11.100000       9.876856   \n",
              "4      95.294510      94.175950      93.291420      92.500960      91.915110   \n",
              "\n",
              "   2018 [YR2018]  \n",
              "0       0.310000  \n",
              "1      99.680177  \n",
              "2      18.095238  \n",
              "3       7.100000  \n",
              "4      90.545800  "
            ],
            "text/html": [
              "\n",
              "  <div id=\"df-b7ec5fe7-1e20-4079-880f-f959a3f3650c\">\n",
              "    <div class=\"colab-df-container\">\n",
              "      <div>\n",
              "<style scoped>\n",
              "    .dataframe tbody tr th:only-of-type {\n",
              "        vertical-align: middle;\n",
              "    }\n",
              "\n",
              "    .dataframe tbody tr th {\n",
              "        vertical-align: top;\n",
              "    }\n",
              "\n",
              "    .dataframe thead th {\n",
              "        text-align: right;\n",
              "    }\n",
              "</style>\n",
              "<table border=\"1\" class=\"dataframe\">\n",
              "  <thead>\n",
              "    <tr style=\"text-align: right;\">\n",
              "      <th></th>\n",
              "      <th>2003 [YR2003]</th>\n",
              "      <th>2004 [YR2004]</th>\n",
              "      <th>2005 [YR2005]</th>\n",
              "      <th>2006 [YR2006]</th>\n",
              "      <th>2007 [YR2007]</th>\n",
              "      <th>2008 [YR2008]</th>\n",
              "      <th>2009 [YR2009]</th>\n",
              "      <th>2010 [YR2010]</th>\n",
              "      <th>2011 [YR2011]</th>\n",
              "      <th>2012 [YR2012]</th>\n",
              "      <th>2013 [YR2013]</th>\n",
              "      <th>2014 [YR2014]</th>\n",
              "      <th>2015 [YR2015]</th>\n",
              "      <th>2016 [YR2016]</th>\n",
              "      <th>2017 [YR2017]</th>\n",
              "      <th>2018 [YR2018]</th>\n",
              "    </tr>\n",
              "  </thead>\n",
              "  <tbody>\n",
              "    <tr>\n",
              "      <th>0</th>\n",
              "      <td>0.050000</td>\n",
              "      <td>0.060000</td>\n",
              "      <td>0.070000</td>\n",
              "      <td>0.080000</td>\n",
              "      <td>0.090000</td>\n",
              "      <td>0.090000</td>\n",
              "      <td>0.090000</td>\n",
              "      <td>0.130000</td>\n",
              "      <td>0.290000</td>\n",
              "      <td>0.230000</td>\n",
              "      <td>0.180000</td>\n",
              "      <td>0.560000</td>\n",
              "      <td>0.340000</td>\n",
              "      <td>0.400000</td>\n",
              "      <td>0.520000</td>\n",
              "      <td>0.310000</td>\n",
              "    </tr>\n",
              "    <tr>\n",
              "      <th>1</th>\n",
              "      <td>99.689119</td>\n",
              "      <td>99.691432</td>\n",
              "      <td>99.686960</td>\n",
              "      <td>99.691262</td>\n",
              "      <td>99.696851</td>\n",
              "      <td>99.690515</td>\n",
              "      <td>99.691436</td>\n",
              "      <td>99.680781</td>\n",
              "      <td>99.690353</td>\n",
              "      <td>99.695075</td>\n",
              "      <td>99.688376</td>\n",
              "      <td>99.690998</td>\n",
              "      <td>99.688031</td>\n",
              "      <td>99.682833</td>\n",
              "      <td>99.677162</td>\n",
              "      <td>99.680177</td>\n",
              "    </tr>\n",
              "    <tr>\n",
              "      <th>2</th>\n",
              "      <td>4.580153</td>\n",
              "      <td>5.343511</td>\n",
              "      <td>5.343511</td>\n",
              "      <td>5.343511</td>\n",
              "      <td>9.160305</td>\n",
              "      <td>8.396947</td>\n",
              "      <td>9.160305</td>\n",
              "      <td>9.160305</td>\n",
              "      <td>8.396947</td>\n",
              "      <td>10.687023</td>\n",
              "      <td>10.687023</td>\n",
              "      <td>10.687023</td>\n",
              "      <td>10.687023</td>\n",
              "      <td>10.687023</td>\n",
              "      <td>18.095238</td>\n",
              "      <td>18.095238</td>\n",
              "    </tr>\n",
              "    <tr>\n",
              "      <th>3</th>\n",
              "      <td>9.876856</td>\n",
              "      <td>9.876856</td>\n",
              "      <td>11.114847</td>\n",
              "      <td>9.876856</td>\n",
              "      <td>9.876856</td>\n",
              "      <td>5.900000</td>\n",
              "      <td>9.876856</td>\n",
              "      <td>11.100000</td>\n",
              "      <td>9.876856</td>\n",
              "      <td>10.500000</td>\n",
              "      <td>9.876856</td>\n",
              "      <td>11.100000</td>\n",
              "      <td>11.100000</td>\n",
              "      <td>11.100000</td>\n",
              "      <td>9.876856</td>\n",
              "      <td>7.100000</td>\n",
              "    </tr>\n",
              "    <tr>\n",
              "      <th>4</th>\n",
              "      <td>83.048990</td>\n",
              "      <td>85.151363</td>\n",
              "      <td>82.180230</td>\n",
              "      <td>84.907010</td>\n",
              "      <td>89.249420</td>\n",
              "      <td>87.073452</td>\n",
              "      <td>86.938194</td>\n",
              "      <td>90.478953</td>\n",
              "      <td>95.761670</td>\n",
              "      <td>96.881210</td>\n",
              "      <td>95.294510</td>\n",
              "      <td>94.175950</td>\n",
              "      <td>93.291420</td>\n",
              "      <td>92.500960</td>\n",
              "      <td>91.915110</td>\n",
              "      <td>90.545800</td>\n",
              "    </tr>\n",
              "  </tbody>\n",
              "</table>\n",
              "</div>\n",
              "      <button class=\"colab-df-convert\" onclick=\"convertToInteractive('df-b7ec5fe7-1e20-4079-880f-f959a3f3650c')\"\n",
              "              title=\"Convert this dataframe to an interactive table.\"\n",
              "              style=\"display:none;\">\n",
              "        \n",
              "  <svg xmlns=\"http://www.w3.org/2000/svg\" height=\"24px\"viewBox=\"0 0 24 24\"\n",
              "       width=\"24px\">\n",
              "    <path d=\"M0 0h24v24H0V0z\" fill=\"none\"/>\n",
              "    <path d=\"M18.56 5.44l.94 2.06.94-2.06 2.06-.94-2.06-.94-.94-2.06-.94 2.06-2.06.94zm-11 1L8.5 8.5l.94-2.06 2.06-.94-2.06-.94L8.5 2.5l-.94 2.06-2.06.94zm10 10l.94 2.06.94-2.06 2.06-.94-2.06-.94-.94-2.06-.94 2.06-2.06.94z\"/><path d=\"M17.41 7.96l-1.37-1.37c-.4-.4-.92-.59-1.43-.59-.52 0-1.04.2-1.43.59L10.3 9.45l-7.72 7.72c-.78.78-.78 2.05 0 2.83L4 21.41c.39.39.9.59 1.41.59.51 0 1.02-.2 1.41-.59l7.78-7.78 2.81-2.81c.8-.78.8-2.07 0-2.86zM5.41 20L4 18.59l7.72-7.72 1.47 1.35L5.41 20z\"/>\n",
              "  </svg>\n",
              "      </button>\n",
              "      \n",
              "  <style>\n",
              "    .colab-df-container {\n",
              "      display:flex;\n",
              "      flex-wrap:wrap;\n",
              "      gap: 12px;\n",
              "    }\n",
              "\n",
              "    .colab-df-convert {\n",
              "      background-color: #E8F0FE;\n",
              "      border: none;\n",
              "      border-radius: 50%;\n",
              "      cursor: pointer;\n",
              "      display: none;\n",
              "      fill: #1967D2;\n",
              "      height: 32px;\n",
              "      padding: 0 0 0 0;\n",
              "      width: 32px;\n",
              "    }\n",
              "\n",
              "    .colab-df-convert:hover {\n",
              "      background-color: #E2EBFA;\n",
              "      box-shadow: 0px 1px 2px rgba(60, 64, 67, 0.3), 0px 1px 3px 1px rgba(60, 64, 67, 0.15);\n",
              "      fill: #174EA6;\n",
              "    }\n",
              "\n",
              "    [theme=dark] .colab-df-convert {\n",
              "      background-color: #3B4455;\n",
              "      fill: #D2E3FC;\n",
              "    }\n",
              "\n",
              "    [theme=dark] .colab-df-convert:hover {\n",
              "      background-color: #434B5C;\n",
              "      box-shadow: 0px 1px 3px 1px rgba(0, 0, 0, 0.15);\n",
              "      filter: drop-shadow(0px 1px 2px rgba(0, 0, 0, 0.3));\n",
              "      fill: #FFFFFF;\n",
              "    }\n",
              "  </style>\n",
              "\n",
              "      <script>\n",
              "        const buttonEl =\n",
              "          document.querySelector('#df-b7ec5fe7-1e20-4079-880f-f959a3f3650c button.colab-df-convert');\n",
              "        buttonEl.style.display =\n",
              "          google.colab.kernel.accessAllowed ? 'block' : 'none';\n",
              "\n",
              "        async function convertToInteractive(key) {\n",
              "          const element = document.querySelector('#df-b7ec5fe7-1e20-4079-880f-f959a3f3650c');\n",
              "          const dataTable =\n",
              "            await google.colab.kernel.invokeFunction('convertToInteractive',\n",
              "                                                     [key], {});\n",
              "          if (!dataTable) return;\n",
              "\n",
              "          const docLinkHtml = 'Like what you see? Visit the ' +\n",
              "            '<a target=\"_blank\" href=https://colab.research.google.com/notebooks/data_table.ipynb>data table notebook</a>'\n",
              "            + ' to learn more about interactive tables.';\n",
              "          element.innerHTML = '';\n",
              "          dataTable['output_type'] = 'display_data';\n",
              "          await google.colab.output.renderOutput(dataTable, element);\n",
              "          const docLink = document.createElement('div');\n",
              "          docLink.innerHTML = docLinkHtml;\n",
              "          element.appendChild(docLink);\n",
              "        }\n",
              "      </script>\n",
              "    </div>\n",
              "  </div>\n",
              "  "
            ]
          },
          "metadata": {},
          "execution_count": 23
        }
      ]
    },
    {
      "cell_type": "code",
      "source": [
        "# Merge the countries dataframe into one\n",
        "clean_df = imputed_countries[list(imputed_countries.keys())[0]]\n",
        "for key,value in list(imputed_countries.items())[1:]:\n",
        "  clean_df = clean_df.append(pd.DataFrame(value, columns=clean_df.columns))"
      ],
      "metadata": {
        "id": "Q29v7YdPvV6K"
      },
      "execution_count": null,
      "outputs": []
    },
    {
      "cell_type": "code",
      "source": [
        "# Split into the only imputed decision making\n",
        "imputed_decision_making = pd.merge(df_all.iloc[:,:4], clean_df, left_index=True, right_index=True)[252:]\n",
        "imputed_decision_making = imputed_decision_making.sort_values(by=['Country Name','Series Name'])\n",
        "imputed_decision_making.head(1)"
      ],
      "metadata": {
        "colab": {
          "base_uri": "https://localhost:8080/",
          "height": 266
        },
        "id": "F1ftE3wVwLlw",
        "outputId": "2a9fbb67-4476-4bae-9b48-ef2f2c71503a"
      },
      "execution_count": null,
      "outputs": [
        {
          "output_type": "execute_result",
          "data": {
            "text/plain": [
              "                                           Series Name        Series Code  \\\n",
              "252  Decision maker about a woman's own health care...  SG.DMK.HLTH.HB.ZS   \n",
              "\n",
              "    Country Name Country Code  2003 [YR2003]  2004 [YR2004]  2005 [YR2005]  \\\n",
              "252      Armenia          ARM       7.987721       7.465325            7.6   \n",
              "\n",
              "     2006 [YR2006]  2007 [YR2007]  2008 [YR2008]  2009 [YR2009]  \\\n",
              "252       6.876721       5.854465       6.016163       5.030415   \n",
              "\n",
              "     2010 [YR2010]  2011 [YR2011]  2012 [YR2012]  2013 [YR2013]  \\\n",
              "252            4.5       2.971544       3.340955       3.154099   \n",
              "\n",
              "     2014 [YR2014]  2015 [YR2015]  2016 [YR2016]  2017 [YR2017]  2018 [YR2018]  \n",
              "252       3.083432       3.110971            2.6       1.946455       1.540362  "
            ],
            "text/html": [
              "\n",
              "  <div id=\"df-a1f45b28-1fc4-411e-aa14-488c01fa91d7\">\n",
              "    <div class=\"colab-df-container\">\n",
              "      <div>\n",
              "<style scoped>\n",
              "    .dataframe tbody tr th:only-of-type {\n",
              "        vertical-align: middle;\n",
              "    }\n",
              "\n",
              "    .dataframe tbody tr th {\n",
              "        vertical-align: top;\n",
              "    }\n",
              "\n",
              "    .dataframe thead th {\n",
              "        text-align: right;\n",
              "    }\n",
              "</style>\n",
              "<table border=\"1\" class=\"dataframe\">\n",
              "  <thead>\n",
              "    <tr style=\"text-align: right;\">\n",
              "      <th></th>\n",
              "      <th>Series Name</th>\n",
              "      <th>Series Code</th>\n",
              "      <th>Country Name</th>\n",
              "      <th>Country Code</th>\n",
              "      <th>2003 [YR2003]</th>\n",
              "      <th>2004 [YR2004]</th>\n",
              "      <th>2005 [YR2005]</th>\n",
              "      <th>2006 [YR2006]</th>\n",
              "      <th>2007 [YR2007]</th>\n",
              "      <th>2008 [YR2008]</th>\n",
              "      <th>2009 [YR2009]</th>\n",
              "      <th>2010 [YR2010]</th>\n",
              "      <th>2011 [YR2011]</th>\n",
              "      <th>2012 [YR2012]</th>\n",
              "      <th>2013 [YR2013]</th>\n",
              "      <th>2014 [YR2014]</th>\n",
              "      <th>2015 [YR2015]</th>\n",
              "      <th>2016 [YR2016]</th>\n",
              "      <th>2017 [YR2017]</th>\n",
              "      <th>2018 [YR2018]</th>\n",
              "    </tr>\n",
              "  </thead>\n",
              "  <tbody>\n",
              "    <tr>\n",
              "      <th>252</th>\n",
              "      <td>Decision maker about a woman's own health care...</td>\n",
              "      <td>SG.DMK.HLTH.HB.ZS</td>\n",
              "      <td>Armenia</td>\n",
              "      <td>ARM</td>\n",
              "      <td>7.987721</td>\n",
              "      <td>7.465325</td>\n",
              "      <td>7.6</td>\n",
              "      <td>6.876721</td>\n",
              "      <td>5.854465</td>\n",
              "      <td>6.016163</td>\n",
              "      <td>5.030415</td>\n",
              "      <td>4.5</td>\n",
              "      <td>2.971544</td>\n",
              "      <td>3.340955</td>\n",
              "      <td>3.154099</td>\n",
              "      <td>3.083432</td>\n",
              "      <td>3.110971</td>\n",
              "      <td>2.6</td>\n",
              "      <td>1.946455</td>\n",
              "      <td>1.540362</td>\n",
              "    </tr>\n",
              "  </tbody>\n",
              "</table>\n",
              "</div>\n",
              "      <button class=\"colab-df-convert\" onclick=\"convertToInteractive('df-a1f45b28-1fc4-411e-aa14-488c01fa91d7')\"\n",
              "              title=\"Convert this dataframe to an interactive table.\"\n",
              "              style=\"display:none;\">\n",
              "        \n",
              "  <svg xmlns=\"http://www.w3.org/2000/svg\" height=\"24px\"viewBox=\"0 0 24 24\"\n",
              "       width=\"24px\">\n",
              "    <path d=\"M0 0h24v24H0V0z\" fill=\"none\"/>\n",
              "    <path d=\"M18.56 5.44l.94 2.06.94-2.06 2.06-.94-2.06-.94-.94-2.06-.94 2.06-2.06.94zm-11 1L8.5 8.5l.94-2.06 2.06-.94-2.06-.94L8.5 2.5l-.94 2.06-2.06.94zm10 10l.94 2.06.94-2.06 2.06-.94-2.06-.94-.94-2.06-.94 2.06-2.06.94z\"/><path d=\"M17.41 7.96l-1.37-1.37c-.4-.4-.92-.59-1.43-.59-.52 0-1.04.2-1.43.59L10.3 9.45l-7.72 7.72c-.78.78-.78 2.05 0 2.83L4 21.41c.39.39.9.59 1.41.59.51 0 1.02-.2 1.41-.59l7.78-7.78 2.81-2.81c.8-.78.8-2.07 0-2.86zM5.41 20L4 18.59l7.72-7.72 1.47 1.35L5.41 20z\"/>\n",
              "  </svg>\n",
              "      </button>\n",
              "      \n",
              "  <style>\n",
              "    .colab-df-container {\n",
              "      display:flex;\n",
              "      flex-wrap:wrap;\n",
              "      gap: 12px;\n",
              "    }\n",
              "\n",
              "    .colab-df-convert {\n",
              "      background-color: #E8F0FE;\n",
              "      border: none;\n",
              "      border-radius: 50%;\n",
              "      cursor: pointer;\n",
              "      display: none;\n",
              "      fill: #1967D2;\n",
              "      height: 32px;\n",
              "      padding: 0 0 0 0;\n",
              "      width: 32px;\n",
              "    }\n",
              "\n",
              "    .colab-df-convert:hover {\n",
              "      background-color: #E2EBFA;\n",
              "      box-shadow: 0px 1px 2px rgba(60, 64, 67, 0.3), 0px 1px 3px 1px rgba(60, 64, 67, 0.15);\n",
              "      fill: #174EA6;\n",
              "    }\n",
              "\n",
              "    [theme=dark] .colab-df-convert {\n",
              "      background-color: #3B4455;\n",
              "      fill: #D2E3FC;\n",
              "    }\n",
              "\n",
              "    [theme=dark] .colab-df-convert:hover {\n",
              "      background-color: #434B5C;\n",
              "      box-shadow: 0px 1px 3px 1px rgba(0, 0, 0, 0.15);\n",
              "      filter: drop-shadow(0px 1px 2px rgba(0, 0, 0, 0.3));\n",
              "      fill: #FFFFFF;\n",
              "    }\n",
              "  </style>\n",
              "\n",
              "      <script>\n",
              "        const buttonEl =\n",
              "          document.querySelector('#df-a1f45b28-1fc4-411e-aa14-488c01fa91d7 button.colab-df-convert');\n",
              "        buttonEl.style.display =\n",
              "          google.colab.kernel.accessAllowed ? 'block' : 'none';\n",
              "\n",
              "        async function convertToInteractive(key) {\n",
              "          const element = document.querySelector('#df-a1f45b28-1fc4-411e-aa14-488c01fa91d7');\n",
              "          const dataTable =\n",
              "            await google.colab.kernel.invokeFunction('convertToInteractive',\n",
              "                                                     [key], {});\n",
              "          if (!dataTable) return;\n",
              "\n",
              "          const docLinkHtml = 'Like what you see? Visit the ' +\n",
              "            '<a target=\"_blank\" href=https://colab.research.google.com/notebooks/data_table.ipynb>data table notebook</a>'\n",
              "            + ' to learn more about interactive tables.';\n",
              "          element.innerHTML = '';\n",
              "          dataTable['output_type'] = 'display_data';\n",
              "          await google.colab.output.renderOutput(dataTable, element);\n",
              "          const docLink = document.createElement('div');\n",
              "          docLink.innerHTML = docLinkHtml;\n",
              "          element.appendChild(docLink);\n",
              "        }\n",
              "      </script>\n",
              "    </div>\n",
              "  </div>\n",
              "  "
            ]
          },
          "metadata": {},
          "execution_count": 25
        }
      ]
    },
    {
      "cell_type": "code",
      "source": [
        "# Exclude row that contain this code because we won't use it\n",
        "exclude = [\"SG.DMK.HLTH.OT.ZS\", \"SG.DMK.HLTH.SE.ZS\",\n",
        "           \"SG.DMK.VISI.OT.ZS\", \"SG.DMK.VISI.SE.ZS\",\n",
        "           \"SG.DMK.PRCH.OT.ZS\", \"SG.DMK.PRCH.SE.ZS\",\n",
        "           \"SG.DMK.DPCH.FN.ZS\"]\n",
        "imputed_decision_making = imputed_decision_making[~imputed_decision_making['Series Code'].isin(exclude)]"
      ],
      "metadata": {
        "id": "QgMH9YKCeHmb"
      },
      "execution_count": null,
      "outputs": []
    },
    {
      "cell_type": "code",
      "execution_count": null,
      "metadata": {
        "id": "0Xoj2E0oERhT"
      },
      "outputs": [],
      "source": [
        "# Save it\n",
        "imputed_decision_making.to_excel(\"imputed_decision_making.xlsx\", index=False) "
      ]
    },
    {
      "cell_type": "markdown",
      "source": [
        "## Process Decision Making Data"
      ],
      "metadata": {
        "id": "7OCwvAUI0fvq"
      }
    },
    {
      "cell_type": "code",
      "source": [
        "imputed_decision_making = load_data(\"1eGWaYuIFaj1JF7jPuJLf0Alcqbnljztf\") # Imputed decision making"
      ],
      "metadata": {
        "id": "VahvkrryEn7w",
        "colab": {
          "base_uri": "https://localhost:8080/"
        },
        "outputId": "b6617463-4861-4a39-e209-f24302c197d8"
      },
      "execution_count": null,
      "outputs": [
        {
          "output_type": "stream",
          "name": "stderr",
          "text": [
            "Unknown extension is not supported and will be removed\n"
          ]
        }
      ]
    },
    {
      "cell_type": "code",
      "source": [
        "imputed_decision_making.tail(1)"
      ],
      "metadata": {
        "colab": {
          "base_uri": "https://localhost:8080/",
          "height": 249
        },
        "id": "73-jtGtLetEh",
        "outputId": "9a945608-3ca7-4184-9899-17ac42d9fd15"
      },
      "execution_count": null,
      "outputs": [
        {
          "output_type": "execute_result",
          "data": {
            "text/plain": [
              "                                           Series Name     Series Code  \\\n",
              "475  Women, Business and the Law: Mobility Indicato...  SG.LAW.INDX.MO   \n",
              "\n",
              "    Country Name Country Code  2003 [YR2003]  2004 [YR2004]  2005 [YR2005]  \\\n",
              "475     Zimbabwe          ZWE          100.0          100.0          100.0   \n",
              "\n",
              "     2006 [YR2006]  2007 [YR2007]  2008 [YR2008]  2009 [YR2009]  \\\n",
              "475          100.0          100.0          100.0          100.0   \n",
              "\n",
              "     2010 [YR2010]  2011 [YR2011]  2012 [YR2012]  2013 [YR2013]  \\\n",
              "475          100.0          100.0          100.0          100.0   \n",
              "\n",
              "     2014 [YR2014]  2015 [YR2015]  2016 [YR2016]  2017 [YR2017]  2018 [YR2018]  \n",
              "475          100.0          100.0          100.0          100.0          100.0  "
            ],
            "text/html": [
              "\n",
              "  <div id=\"df-e2f5488b-a85a-4e94-babe-16ae0869629d\">\n",
              "    <div class=\"colab-df-container\">\n",
              "      <div>\n",
              "<style scoped>\n",
              "    .dataframe tbody tr th:only-of-type {\n",
              "        vertical-align: middle;\n",
              "    }\n",
              "\n",
              "    .dataframe tbody tr th {\n",
              "        vertical-align: top;\n",
              "    }\n",
              "\n",
              "    .dataframe thead th {\n",
              "        text-align: right;\n",
              "    }\n",
              "</style>\n",
              "<table border=\"1\" class=\"dataframe\">\n",
              "  <thead>\n",
              "    <tr style=\"text-align: right;\">\n",
              "      <th></th>\n",
              "      <th>Series Name</th>\n",
              "      <th>Series Code</th>\n",
              "      <th>Country Name</th>\n",
              "      <th>Country Code</th>\n",
              "      <th>2003 [YR2003]</th>\n",
              "      <th>2004 [YR2004]</th>\n",
              "      <th>2005 [YR2005]</th>\n",
              "      <th>2006 [YR2006]</th>\n",
              "      <th>2007 [YR2007]</th>\n",
              "      <th>2008 [YR2008]</th>\n",
              "      <th>2009 [YR2009]</th>\n",
              "      <th>2010 [YR2010]</th>\n",
              "      <th>2011 [YR2011]</th>\n",
              "      <th>2012 [YR2012]</th>\n",
              "      <th>2013 [YR2013]</th>\n",
              "      <th>2014 [YR2014]</th>\n",
              "      <th>2015 [YR2015]</th>\n",
              "      <th>2016 [YR2016]</th>\n",
              "      <th>2017 [YR2017]</th>\n",
              "      <th>2018 [YR2018]</th>\n",
              "    </tr>\n",
              "  </thead>\n",
              "  <tbody>\n",
              "    <tr>\n",
              "      <th>475</th>\n",
              "      <td>Women, Business and the Law: Mobility Indicato...</td>\n",
              "      <td>SG.LAW.INDX.MO</td>\n",
              "      <td>Zimbabwe</td>\n",
              "      <td>ZWE</td>\n",
              "      <td>100.0</td>\n",
              "      <td>100.0</td>\n",
              "      <td>100.0</td>\n",
              "      <td>100.0</td>\n",
              "      <td>100.0</td>\n",
              "      <td>100.0</td>\n",
              "      <td>100.0</td>\n",
              "      <td>100.0</td>\n",
              "      <td>100.0</td>\n",
              "      <td>100.0</td>\n",
              "      <td>100.0</td>\n",
              "      <td>100.0</td>\n",
              "      <td>100.0</td>\n",
              "      <td>100.0</td>\n",
              "      <td>100.0</td>\n",
              "      <td>100.0</td>\n",
              "    </tr>\n",
              "  </tbody>\n",
              "</table>\n",
              "</div>\n",
              "      <button class=\"colab-df-convert\" onclick=\"convertToInteractive('df-e2f5488b-a85a-4e94-babe-16ae0869629d')\"\n",
              "              title=\"Convert this dataframe to an interactive table.\"\n",
              "              style=\"display:none;\">\n",
              "        \n",
              "  <svg xmlns=\"http://www.w3.org/2000/svg\" height=\"24px\"viewBox=\"0 0 24 24\"\n",
              "       width=\"24px\">\n",
              "    <path d=\"M0 0h24v24H0V0z\" fill=\"none\"/>\n",
              "    <path d=\"M18.56 5.44l.94 2.06.94-2.06 2.06-.94-2.06-.94-.94-2.06-.94 2.06-2.06.94zm-11 1L8.5 8.5l.94-2.06 2.06-.94-2.06-.94L8.5 2.5l-.94 2.06-2.06.94zm10 10l.94 2.06.94-2.06 2.06-.94-2.06-.94-.94-2.06-.94 2.06-2.06.94z\"/><path d=\"M17.41 7.96l-1.37-1.37c-.4-.4-.92-.59-1.43-.59-.52 0-1.04.2-1.43.59L10.3 9.45l-7.72 7.72c-.78.78-.78 2.05 0 2.83L4 21.41c.39.39.9.59 1.41.59.51 0 1.02-.2 1.41-.59l7.78-7.78 2.81-2.81c.8-.78.8-2.07 0-2.86zM5.41 20L4 18.59l7.72-7.72 1.47 1.35L5.41 20z\"/>\n",
              "  </svg>\n",
              "      </button>\n",
              "      \n",
              "  <style>\n",
              "    .colab-df-container {\n",
              "      display:flex;\n",
              "      flex-wrap:wrap;\n",
              "      gap: 12px;\n",
              "    }\n",
              "\n",
              "    .colab-df-convert {\n",
              "      background-color: #E8F0FE;\n",
              "      border: none;\n",
              "      border-radius: 50%;\n",
              "      cursor: pointer;\n",
              "      display: none;\n",
              "      fill: #1967D2;\n",
              "      height: 32px;\n",
              "      padding: 0 0 0 0;\n",
              "      width: 32px;\n",
              "    }\n",
              "\n",
              "    .colab-df-convert:hover {\n",
              "      background-color: #E2EBFA;\n",
              "      box-shadow: 0px 1px 2px rgba(60, 64, 67, 0.3), 0px 1px 3px 1px rgba(60, 64, 67, 0.15);\n",
              "      fill: #174EA6;\n",
              "    }\n",
              "\n",
              "    [theme=dark] .colab-df-convert {\n",
              "      background-color: #3B4455;\n",
              "      fill: #D2E3FC;\n",
              "    }\n",
              "\n",
              "    [theme=dark] .colab-df-convert:hover {\n",
              "      background-color: #434B5C;\n",
              "      box-shadow: 0px 1px 3px 1px rgba(0, 0, 0, 0.15);\n",
              "      filter: drop-shadow(0px 1px 2px rgba(0, 0, 0, 0.3));\n",
              "      fill: #FFFFFF;\n",
              "    }\n",
              "  </style>\n",
              "\n",
              "      <script>\n",
              "        const buttonEl =\n",
              "          document.querySelector('#df-e2f5488b-a85a-4e94-babe-16ae0869629d button.colab-df-convert');\n",
              "        buttonEl.style.display =\n",
              "          google.colab.kernel.accessAllowed ? 'block' : 'none';\n",
              "\n",
              "        async function convertToInteractive(key) {\n",
              "          const element = document.querySelector('#df-e2f5488b-a85a-4e94-babe-16ae0869629d');\n",
              "          const dataTable =\n",
              "            await google.colab.kernel.invokeFunction('convertToInteractive',\n",
              "                                                     [key], {});\n",
              "          if (!dataTable) return;\n",
              "\n",
              "          const docLinkHtml = 'Like what you see? Visit the ' +\n",
              "            '<a target=\"_blank\" href=https://colab.research.google.com/notebooks/data_table.ipynb>data table notebook</a>'\n",
              "            + ' to learn more about interactive tables.';\n",
              "          element.innerHTML = '';\n",
              "          dataTable['output_type'] = 'display_data';\n",
              "          await google.colab.output.renderOutput(dataTable, element);\n",
              "          const docLink = document.createElement('div');\n",
              "          docLink.innerHTML = docLinkHtml;\n",
              "          element.appendChild(docLink);\n",
              "        }\n",
              "      </script>\n",
              "    </div>\n",
              "  </div>\n",
              "  "
            ]
          },
          "metadata": {},
          "execution_count": 29
        }
      ]
    },
    {
      "cell_type": "code",
      "source": [
        "# Split the dataframe that contains series name decision maker\n",
        "process_df = imputed_decision_making[imputed_decision_making['Series Name']\\\n",
        "                                     .str.contains(\"Decision maker\")]\n",
        "process_df['Series Code'] = process_df['Series Code'].str[:-6] # Shorten series code"
      ],
      "metadata": {
        "colab": {
          "base_uri": "https://localhost:8080/"
        },
        "id": "vA91Uazrz8ve",
        "outputId": "8109bd8d-3a3f-49ed-c5e7-3f8be2a2e1ed"
      },
      "execution_count": null,
      "outputs": [
        {
          "output_type": "stream",
          "name": "stderr",
          "text": [
            "\n",
            "A value is trying to be set on a copy of a slice from a DataFrame.\n",
            "Try using .loc[row_indexer,col_indexer] = value instead\n",
            "\n",
            "See the caveats in the documentation: https://pandas.pydata.org/pandas-docs/stable/user_guide/indexing.html#returning-a-view-versus-a-copy\n"
          ]
        }
      ]
    },
    {
      "cell_type": "code",
      "source": [
        "# The indicator sum must be 100, if it is not 100 , we will process it\n",
        "# We group by name and code and sum it\n",
        "tmp = (process_df.groupby(['Country Name','Series Code'])[process_df.columns[4:]].sum()).reset_index()\n",
        "tmp.columns = ['Country Name','Series Code'] + ['Total '+str(i) for i in range(2003,2019)]\n",
        "tmp = pd.concat([tmp for i in range(3)], ignore_index=True).sort_values(by=['Country Name','Series Code'])"
      ],
      "metadata": {
        "id": "3Hj3as_q0kt8"
      },
      "execution_count": null,
      "outputs": []
    },
    {
      "cell_type": "code",
      "source": [
        "# Standardize the indicator with sum to 100\n",
        "standardize_df = pd.DataFrame(process_df.iloc[:,4:].values/tmp.iloc[:,2:].values*100, \n",
        "                               columns=process_df.iloc[:,4:].columns)\n",
        "standardize_df = pd.concat([imputed_decision_making[imputed_decision_making['Series Name'].str\\\n",
        "                            .contains(\"Decision maker\")].reset_index(drop=True)\\\n",
        "                            .iloc[:,:4],standardize_df],axis=1)\n",
        "standardize_df = pd.concat([imputed_decision_making[imputed_decision_making['Series Code']\\\n",
        "                             .isin([\"SG.VAW.REAS.ZS\",\"SG.LAW.INDX.MR\",\"SG.LAW.INDX.MO\"])],\n",
        "                             standardize_df])\n",
        "standardize_df = pd.concat([imputed_decision_making[imputed_decision_making['Series Name'].str\\\n",
        "                            .contains(\"Women participating\")],\n",
        "                             standardize_df]).sort_values(by=['Country Name','Series Name'])\n",
        "\n",
        "standardize_df.head()"
      ],
      "metadata": {
        "colab": {
          "base_uri": "https://localhost:8080/",
          "height": 774
        },
        "id": "okqsSXdjPSG-",
        "outputId": "5b407667-27e6-4fe7-daa7-6e84789f8eaf"
      },
      "execution_count": null,
      "outputs": [
        {
          "output_type": "execute_result",
          "data": {
            "text/plain": [
              "                                         Series Name        Series Code  \\\n",
              "0  Decision maker about a woman's own health care...  SG.DMK.HLTH.HB.ZS   \n",
              "1  Decision maker about a woman's own health care...  SG.DMK.HLTH.WF.ZS   \n",
              "2  Decision maker about a woman's own health care...  SG.DMK.HLTH.WH.ZS   \n",
              "3  Decision maker about a woman's visits to her f...  SG.DMK.VISI.HB.ZS   \n",
              "4  Decision maker about a woman's visits to her f...  SG.DMK.VISI.WF.ZS   \n",
              "\n",
              "  Country Name Country Code  2003 [YR2003]  2004 [YR2004]  2005 [YR2005]  \\\n",
              "0      Armenia          ARM       7.954604       7.624269       7.794872   \n",
              "1      Armenia          ARM      33.875563      35.788608      34.153846   \n",
              "2      Armenia          ARM      58.169833      56.587123      58.051282   \n",
              "3      Armenia          ARM       8.184104       7.921424       7.959641   \n",
              "4      Armenia          ARM      13.996048      14.931040      14.237668   \n",
              "\n",
              "   2006 [YR2006]  2007 [YR2007]  2008 [YR2008]  2009 [YR2009]  2010 [YR2010]  \\\n",
              "0       7.020363       5.768802       6.376112       5.111847       4.559271   \n",
              "1      28.376986      21.965737      25.125584      20.637859      19.148936   \n",
              "2      64.602652      72.265461      68.498304      74.250295      76.291793   \n",
              "3       7.107316       6.024526       6.312088       5.385531       4.907306   \n",
              "4      12.411880      10.533510      11.549129      10.350202      10.032715   \n",
              "\n",
              "   2011 [YR2011]  2012 [YR2012]  2013 [YR2013]  2014 [YR2014]  2015 [YR2015]  \\\n",
              "0       2.905030       2.794120       2.576851       2.648035       2.823902   \n",
              "1      19.504959      20.170085      22.958984      24.461449      29.242618   \n",
              "2      77.590011      77.035795      74.464165      72.890516      67.933480   \n",
              "3       3.767840       4.119928       4.120061       4.142967       4.340213   \n",
              "4      10.783107      10.926026      12.014511      12.582855      14.379541   \n",
              "\n",
              "   2016 [YR2016]  2017 [YR2017]  2018 [YR2018]  \n",
              "0       2.636917       1.758326       1.823633  \n",
              "1      28.397566      22.532840      31.488574  \n",
              "2      68.965517      75.708835      66.687793  \n",
              "3       3.881279       3.225282       3.133291  \n",
              "4      14.269406      12.295661      15.969965  "
            ],
            "text/html": [
              "\n",
              "  <div id=\"df-c15936dd-c806-41de-b46b-b94e3af0668b\">\n",
              "    <div class=\"colab-df-container\">\n",
              "      <div>\n",
              "<style scoped>\n",
              "    .dataframe tbody tr th:only-of-type {\n",
              "        vertical-align: middle;\n",
              "    }\n",
              "\n",
              "    .dataframe tbody tr th {\n",
              "        vertical-align: top;\n",
              "    }\n",
              "\n",
              "    .dataframe thead th {\n",
              "        text-align: right;\n",
              "    }\n",
              "</style>\n",
              "<table border=\"1\" class=\"dataframe\">\n",
              "  <thead>\n",
              "    <tr style=\"text-align: right;\">\n",
              "      <th></th>\n",
              "      <th>Series Name</th>\n",
              "      <th>Series Code</th>\n",
              "      <th>Country Name</th>\n",
              "      <th>Country Code</th>\n",
              "      <th>2003 [YR2003]</th>\n",
              "      <th>2004 [YR2004]</th>\n",
              "      <th>2005 [YR2005]</th>\n",
              "      <th>2006 [YR2006]</th>\n",
              "      <th>2007 [YR2007]</th>\n",
              "      <th>2008 [YR2008]</th>\n",
              "      <th>2009 [YR2009]</th>\n",
              "      <th>2010 [YR2010]</th>\n",
              "      <th>2011 [YR2011]</th>\n",
              "      <th>2012 [YR2012]</th>\n",
              "      <th>2013 [YR2013]</th>\n",
              "      <th>2014 [YR2014]</th>\n",
              "      <th>2015 [YR2015]</th>\n",
              "      <th>2016 [YR2016]</th>\n",
              "      <th>2017 [YR2017]</th>\n",
              "      <th>2018 [YR2018]</th>\n",
              "    </tr>\n",
              "  </thead>\n",
              "  <tbody>\n",
              "    <tr>\n",
              "      <th>0</th>\n",
              "      <td>Decision maker about a woman's own health care...</td>\n",
              "      <td>SG.DMK.HLTH.HB.ZS</td>\n",
              "      <td>Armenia</td>\n",
              "      <td>ARM</td>\n",
              "      <td>7.954604</td>\n",
              "      <td>7.624269</td>\n",
              "      <td>7.794872</td>\n",
              "      <td>7.020363</td>\n",
              "      <td>5.768802</td>\n",
              "      <td>6.376112</td>\n",
              "      <td>5.111847</td>\n",
              "      <td>4.559271</td>\n",
              "      <td>2.905030</td>\n",
              "      <td>2.794120</td>\n",
              "      <td>2.576851</td>\n",
              "      <td>2.648035</td>\n",
              "      <td>2.823902</td>\n",
              "      <td>2.636917</td>\n",
              "      <td>1.758326</td>\n",
              "      <td>1.823633</td>\n",
              "    </tr>\n",
              "    <tr>\n",
              "      <th>1</th>\n",
              "      <td>Decision maker about a woman's own health care...</td>\n",
              "      <td>SG.DMK.HLTH.WF.ZS</td>\n",
              "      <td>Armenia</td>\n",
              "      <td>ARM</td>\n",
              "      <td>33.875563</td>\n",
              "      <td>35.788608</td>\n",
              "      <td>34.153846</td>\n",
              "      <td>28.376986</td>\n",
              "      <td>21.965737</td>\n",
              "      <td>25.125584</td>\n",
              "      <td>20.637859</td>\n",
              "      <td>19.148936</td>\n",
              "      <td>19.504959</td>\n",
              "      <td>20.170085</td>\n",
              "      <td>22.958984</td>\n",
              "      <td>24.461449</td>\n",
              "      <td>29.242618</td>\n",
              "      <td>28.397566</td>\n",
              "      <td>22.532840</td>\n",
              "      <td>31.488574</td>\n",
              "    </tr>\n",
              "    <tr>\n",
              "      <th>2</th>\n",
              "      <td>Decision maker about a woman's own health care...</td>\n",
              "      <td>SG.DMK.HLTH.WH.ZS</td>\n",
              "      <td>Armenia</td>\n",
              "      <td>ARM</td>\n",
              "      <td>58.169833</td>\n",
              "      <td>56.587123</td>\n",
              "      <td>58.051282</td>\n",
              "      <td>64.602652</td>\n",
              "      <td>72.265461</td>\n",
              "      <td>68.498304</td>\n",
              "      <td>74.250295</td>\n",
              "      <td>76.291793</td>\n",
              "      <td>77.590011</td>\n",
              "      <td>77.035795</td>\n",
              "      <td>74.464165</td>\n",
              "      <td>72.890516</td>\n",
              "      <td>67.933480</td>\n",
              "      <td>68.965517</td>\n",
              "      <td>75.708835</td>\n",
              "      <td>66.687793</td>\n",
              "    </tr>\n",
              "    <tr>\n",
              "      <th>3</th>\n",
              "      <td>Decision maker about a woman's visits to her f...</td>\n",
              "      <td>SG.DMK.VISI.HB.ZS</td>\n",
              "      <td>Armenia</td>\n",
              "      <td>ARM</td>\n",
              "      <td>8.184104</td>\n",
              "      <td>7.921424</td>\n",
              "      <td>7.959641</td>\n",
              "      <td>7.107316</td>\n",
              "      <td>6.024526</td>\n",
              "      <td>6.312088</td>\n",
              "      <td>5.385531</td>\n",
              "      <td>4.907306</td>\n",
              "      <td>3.767840</td>\n",
              "      <td>4.119928</td>\n",
              "      <td>4.120061</td>\n",
              "      <td>4.142967</td>\n",
              "      <td>4.340213</td>\n",
              "      <td>3.881279</td>\n",
              "      <td>3.225282</td>\n",
              "      <td>3.133291</td>\n",
              "    </tr>\n",
              "    <tr>\n",
              "      <th>4</th>\n",
              "      <td>Decision maker about a woman's visits to her f...</td>\n",
              "      <td>SG.DMK.VISI.WF.ZS</td>\n",
              "      <td>Armenia</td>\n",
              "      <td>ARM</td>\n",
              "      <td>13.996048</td>\n",
              "      <td>14.931040</td>\n",
              "      <td>14.237668</td>\n",
              "      <td>12.411880</td>\n",
              "      <td>10.533510</td>\n",
              "      <td>11.549129</td>\n",
              "      <td>10.350202</td>\n",
              "      <td>10.032715</td>\n",
              "      <td>10.783107</td>\n",
              "      <td>10.926026</td>\n",
              "      <td>12.014511</td>\n",
              "      <td>12.582855</td>\n",
              "      <td>14.379541</td>\n",
              "      <td>14.269406</td>\n",
              "      <td>12.295661</td>\n",
              "      <td>15.969965</td>\n",
              "    </tr>\n",
              "  </tbody>\n",
              "</table>\n",
              "</div>\n",
              "      <button class=\"colab-df-convert\" onclick=\"convertToInteractive('df-c15936dd-c806-41de-b46b-b94e3af0668b')\"\n",
              "              title=\"Convert this dataframe to an interactive table.\"\n",
              "              style=\"display:none;\">\n",
              "        \n",
              "  <svg xmlns=\"http://www.w3.org/2000/svg\" height=\"24px\"viewBox=\"0 0 24 24\"\n",
              "       width=\"24px\">\n",
              "    <path d=\"M0 0h24v24H0V0z\" fill=\"none\"/>\n",
              "    <path d=\"M18.56 5.44l.94 2.06.94-2.06 2.06-.94-2.06-.94-.94-2.06-.94 2.06-2.06.94zm-11 1L8.5 8.5l.94-2.06 2.06-.94-2.06-.94L8.5 2.5l-.94 2.06-2.06.94zm10 10l.94 2.06.94-2.06 2.06-.94-2.06-.94-.94-2.06-.94 2.06-2.06.94z\"/><path d=\"M17.41 7.96l-1.37-1.37c-.4-.4-.92-.59-1.43-.59-.52 0-1.04.2-1.43.59L10.3 9.45l-7.72 7.72c-.78.78-.78 2.05 0 2.83L4 21.41c.39.39.9.59 1.41.59.51 0 1.02-.2 1.41-.59l7.78-7.78 2.81-2.81c.8-.78.8-2.07 0-2.86zM5.41 20L4 18.59l7.72-7.72 1.47 1.35L5.41 20z\"/>\n",
              "  </svg>\n",
              "      </button>\n",
              "      \n",
              "  <style>\n",
              "    .colab-df-container {\n",
              "      display:flex;\n",
              "      flex-wrap:wrap;\n",
              "      gap: 12px;\n",
              "    }\n",
              "\n",
              "    .colab-df-convert {\n",
              "      background-color: #E8F0FE;\n",
              "      border: none;\n",
              "      border-radius: 50%;\n",
              "      cursor: pointer;\n",
              "      display: none;\n",
              "      fill: #1967D2;\n",
              "      height: 32px;\n",
              "      padding: 0 0 0 0;\n",
              "      width: 32px;\n",
              "    }\n",
              "\n",
              "    .colab-df-convert:hover {\n",
              "      background-color: #E2EBFA;\n",
              "      box-shadow: 0px 1px 2px rgba(60, 64, 67, 0.3), 0px 1px 3px 1px rgba(60, 64, 67, 0.15);\n",
              "      fill: #174EA6;\n",
              "    }\n",
              "\n",
              "    [theme=dark] .colab-df-convert {\n",
              "      background-color: #3B4455;\n",
              "      fill: #D2E3FC;\n",
              "    }\n",
              "\n",
              "    [theme=dark] .colab-df-convert:hover {\n",
              "      background-color: #434B5C;\n",
              "      box-shadow: 0px 1px 3px 1px rgba(0, 0, 0, 0.15);\n",
              "      filter: drop-shadow(0px 1px 2px rgba(0, 0, 0, 0.3));\n",
              "      fill: #FFFFFF;\n",
              "    }\n",
              "  </style>\n",
              "\n",
              "      <script>\n",
              "        const buttonEl =\n",
              "          document.querySelector('#df-c15936dd-c806-41de-b46b-b94e3af0668b button.colab-df-convert');\n",
              "        buttonEl.style.display =\n",
              "          google.colab.kernel.accessAllowed ? 'block' : 'none';\n",
              "\n",
              "        async function convertToInteractive(key) {\n",
              "          const element = document.querySelector('#df-c15936dd-c806-41de-b46b-b94e3af0668b');\n",
              "          const dataTable =\n",
              "            await google.colab.kernel.invokeFunction('convertToInteractive',\n",
              "                                                     [key], {});\n",
              "          if (!dataTable) return;\n",
              "\n",
              "          const docLinkHtml = 'Like what you see? Visit the ' +\n",
              "            '<a target=\"_blank\" href=https://colab.research.google.com/notebooks/data_table.ipynb>data table notebook</a>'\n",
              "            + ' to learn more about interactive tables.';\n",
              "          element.innerHTML = '';\n",
              "          dataTable['output_type'] = 'display_data';\n",
              "          await google.colab.output.renderOutput(dataTable, element);\n",
              "          const docLink = document.createElement('div');\n",
              "          docLink.innerHTML = docLinkHtml;\n",
              "          element.appendChild(docLink);\n",
              "        }\n",
              "      </script>\n",
              "    </div>\n",
              "  </div>\n",
              "  "
            ]
          },
          "metadata": {},
          "execution_count": 41
        }
      ]
    },
    {
      "cell_type": "code",
      "source": [
        "# Save the clean decision making\n",
        "standardize_df.to_excel(\"Clean_decision_making.xlsx\", index=False)"
      ],
      "metadata": {
        "id": "88l0e__qVFoN"
      },
      "execution_count": null,
      "outputs": []
    },
    {
      "cell_type": "markdown",
      "source": [
        "## Transform Decision Making Data"
      ],
      "metadata": {
        "id": "YylyNyvtoztQ"
      }
    },
    {
      "cell_type": "code",
      "source": [
        "clean_decision_making = load_data(\"1XWIKfYJcDBBJCd4Rx-lFUGQ0WLVEWL7F\") # Cleaned decision making\n",
        "clean_decision_making.drop(['Series Code','Country Code'], axis=1, inplace=True)\n",
        "clean_decision_making.columns = ['Series', 'Country'] + [str(i) for i in range(2003,2019)]"
      ],
      "metadata": {
        "colab": {
          "base_uri": "https://localhost:8080/"
        },
        "id": "htjzm-dbo6Bd",
        "outputId": "ea73ca81-7bb8-4828-8dbf-e8fe11e4123a"
      },
      "execution_count": null,
      "outputs": [
        {
          "output_type": "stream",
          "name": "stderr",
          "text": [
            "Unknown extension is not supported and will be removed\n"
          ]
        }
      ]
    },
    {
      "cell_type": "code",
      "source": [
        "clean_decision_making.tail(1)"
      ],
      "metadata": {
        "colab": {
          "base_uri": "https://localhost:8080/",
          "height": 232
        },
        "id": "HGdMVAqvpD5q",
        "outputId": "4881574f-d58f-4dfe-86e7-d51742c8aa36"
      },
      "execution_count": null,
      "outputs": [
        {
          "output_type": "execute_result",
          "data": {
            "text/plain": [
              "                                                Series   Country   2003  \\\n",
              "475  Women, Business and the Law: Mobility Indicato...  Zimbabwe  100.0   \n",
              "\n",
              "      2004   2005   2006   2007   2008   2009   2010   2011   2012   2013  \\\n",
              "475  100.0  100.0  100.0  100.0  100.0  100.0  100.0  100.0  100.0  100.0   \n",
              "\n",
              "      2014   2015   2016   2017   2018  \n",
              "475  100.0  100.0  100.0  100.0  100.0  "
            ],
            "text/html": [
              "\n",
              "  <div id=\"df-9e7546bb-f79b-4e99-abb3-f6a542b58038\">\n",
              "    <div class=\"colab-df-container\">\n",
              "      <div>\n",
              "<style scoped>\n",
              "    .dataframe tbody tr th:only-of-type {\n",
              "        vertical-align: middle;\n",
              "    }\n",
              "\n",
              "    .dataframe tbody tr th {\n",
              "        vertical-align: top;\n",
              "    }\n",
              "\n",
              "    .dataframe thead th {\n",
              "        text-align: right;\n",
              "    }\n",
              "</style>\n",
              "<table border=\"1\" class=\"dataframe\">\n",
              "  <thead>\n",
              "    <tr style=\"text-align: right;\">\n",
              "      <th></th>\n",
              "      <th>Series</th>\n",
              "      <th>Country</th>\n",
              "      <th>2003</th>\n",
              "      <th>2004</th>\n",
              "      <th>2005</th>\n",
              "      <th>2006</th>\n",
              "      <th>2007</th>\n",
              "      <th>2008</th>\n",
              "      <th>2009</th>\n",
              "      <th>2010</th>\n",
              "      <th>2011</th>\n",
              "      <th>2012</th>\n",
              "      <th>2013</th>\n",
              "      <th>2014</th>\n",
              "      <th>2015</th>\n",
              "      <th>2016</th>\n",
              "      <th>2017</th>\n",
              "      <th>2018</th>\n",
              "    </tr>\n",
              "  </thead>\n",
              "  <tbody>\n",
              "    <tr>\n",
              "      <th>475</th>\n",
              "      <td>Women, Business and the Law: Mobility Indicato...</td>\n",
              "      <td>Zimbabwe</td>\n",
              "      <td>100.0</td>\n",
              "      <td>100.0</td>\n",
              "      <td>100.0</td>\n",
              "      <td>100.0</td>\n",
              "      <td>100.0</td>\n",
              "      <td>100.0</td>\n",
              "      <td>100.0</td>\n",
              "      <td>100.0</td>\n",
              "      <td>100.0</td>\n",
              "      <td>100.0</td>\n",
              "      <td>100.0</td>\n",
              "      <td>100.0</td>\n",
              "      <td>100.0</td>\n",
              "      <td>100.0</td>\n",
              "      <td>100.0</td>\n",
              "      <td>100.0</td>\n",
              "    </tr>\n",
              "  </tbody>\n",
              "</table>\n",
              "</div>\n",
              "      <button class=\"colab-df-convert\" onclick=\"convertToInteractive('df-9e7546bb-f79b-4e99-abb3-f6a542b58038')\"\n",
              "              title=\"Convert this dataframe to an interactive table.\"\n",
              "              style=\"display:none;\">\n",
              "        \n",
              "  <svg xmlns=\"http://www.w3.org/2000/svg\" height=\"24px\"viewBox=\"0 0 24 24\"\n",
              "       width=\"24px\">\n",
              "    <path d=\"M0 0h24v24H0V0z\" fill=\"none\"/>\n",
              "    <path d=\"M18.56 5.44l.94 2.06.94-2.06 2.06-.94-2.06-.94-.94-2.06-.94 2.06-2.06.94zm-11 1L8.5 8.5l.94-2.06 2.06-.94-2.06-.94L8.5 2.5l-.94 2.06-2.06.94zm10 10l.94 2.06.94-2.06 2.06-.94-2.06-.94-.94-2.06-.94 2.06-2.06.94z\"/><path d=\"M17.41 7.96l-1.37-1.37c-.4-.4-.92-.59-1.43-.59-.52 0-1.04.2-1.43.59L10.3 9.45l-7.72 7.72c-.78.78-.78 2.05 0 2.83L4 21.41c.39.39.9.59 1.41.59.51 0 1.02-.2 1.41-.59l7.78-7.78 2.81-2.81c.8-.78.8-2.07 0-2.86zM5.41 20L4 18.59l7.72-7.72 1.47 1.35L5.41 20z\"/>\n",
              "  </svg>\n",
              "      </button>\n",
              "      \n",
              "  <style>\n",
              "    .colab-df-container {\n",
              "      display:flex;\n",
              "      flex-wrap:wrap;\n",
              "      gap: 12px;\n",
              "    }\n",
              "\n",
              "    .colab-df-convert {\n",
              "      background-color: #E8F0FE;\n",
              "      border: none;\n",
              "      border-radius: 50%;\n",
              "      cursor: pointer;\n",
              "      display: none;\n",
              "      fill: #1967D2;\n",
              "      height: 32px;\n",
              "      padding: 0 0 0 0;\n",
              "      width: 32px;\n",
              "    }\n",
              "\n",
              "    .colab-df-convert:hover {\n",
              "      background-color: #E2EBFA;\n",
              "      box-shadow: 0px 1px 2px rgba(60, 64, 67, 0.3), 0px 1px 3px 1px rgba(60, 64, 67, 0.15);\n",
              "      fill: #174EA6;\n",
              "    }\n",
              "\n",
              "    [theme=dark] .colab-df-convert {\n",
              "      background-color: #3B4455;\n",
              "      fill: #D2E3FC;\n",
              "    }\n",
              "\n",
              "    [theme=dark] .colab-df-convert:hover {\n",
              "      background-color: #434B5C;\n",
              "      box-shadow: 0px 1px 3px 1px rgba(0, 0, 0, 0.15);\n",
              "      filter: drop-shadow(0px 1px 2px rgba(0, 0, 0, 0.3));\n",
              "      fill: #FFFFFF;\n",
              "    }\n",
              "  </style>\n",
              "\n",
              "      <script>\n",
              "        const buttonEl =\n",
              "          document.querySelector('#df-9e7546bb-f79b-4e99-abb3-f6a542b58038 button.colab-df-convert');\n",
              "        buttonEl.style.display =\n",
              "          google.colab.kernel.accessAllowed ? 'block' : 'none';\n",
              "\n",
              "        async function convertToInteractive(key) {\n",
              "          const element = document.querySelector('#df-9e7546bb-f79b-4e99-abb3-f6a542b58038');\n",
              "          const dataTable =\n",
              "            await google.colab.kernel.invokeFunction('convertToInteractive',\n",
              "                                                     [key], {});\n",
              "          if (!dataTable) return;\n",
              "\n",
              "          const docLinkHtml = 'Like what you see? Visit the ' +\n",
              "            '<a target=\"_blank\" href=https://colab.research.google.com/notebooks/data_table.ipynb>data table notebook</a>'\n",
              "            + ' to learn more about interactive tables.';\n",
              "          element.innerHTML = '';\n",
              "          dataTable['output_type'] = 'display_data';\n",
              "          await google.colab.output.renderOutput(dataTable, element);\n",
              "          const docLink = document.createElement('div');\n",
              "          docLink.innerHTML = docLinkHtml;\n",
              "          element.appendChild(docLink);\n",
              "        }\n",
              "      </script>\n",
              "    </div>\n",
              "  </div>\n",
              "  "
            ]
          },
          "metadata": {},
          "execution_count": 44
        }
      ]
    },
    {
      "cell_type": "code",
      "source": [
        "# Melt the data to be transformed to another data structure\n",
        "melted_df = pd.melt(clean_decision_making, id_vars=['Series', 'Country'], \n",
        "                    var_name='Year', value_name='Value')\n",
        "melted_df.tail()"
      ],
      "metadata": {
        "colab": {
          "base_uri": "https://localhost:8080/",
          "height": 206
        },
        "id": "UA7WXRNWpF_2",
        "outputId": "afe3abf5-0636-4201-8571-b360cfc8c0b0"
      },
      "execution_count": null,
      "outputs": [
        {
          "output_type": "execute_result",
          "data": {
            "text/plain": [
              "                                                 Series   Country  Year  \\\n",
              "7611  Women participating in own health care decisio...  Zimbabwe  2018   \n",
              "7612  Women participating in the three decisions (ow...  Zimbabwe  2018   \n",
              "7613  Women who believe a husband is justified in be...  Zimbabwe  2018   \n",
              "7614  Women, Business and the Law: Marriage Indicato...  Zimbabwe  2018   \n",
              "7615  Women, Business and the Law: Mobility Indicato...  Zimbabwe  2018   \n",
              "\n",
              "           Value  \n",
              "7611   76.506525  \n",
              "7612   79.964010  \n",
              "7613   38.602836  \n",
              "7614   80.000000  \n",
              "7615  100.000000  "
            ],
            "text/html": [
              "\n",
              "  <div id=\"df-c2c2a455-196c-4252-8975-307effe59bc8\">\n",
              "    <div class=\"colab-df-container\">\n",
              "      <div>\n",
              "<style scoped>\n",
              "    .dataframe tbody tr th:only-of-type {\n",
              "        vertical-align: middle;\n",
              "    }\n",
              "\n",
              "    .dataframe tbody tr th {\n",
              "        vertical-align: top;\n",
              "    }\n",
              "\n",
              "    .dataframe thead th {\n",
              "        text-align: right;\n",
              "    }\n",
              "</style>\n",
              "<table border=\"1\" class=\"dataframe\">\n",
              "  <thead>\n",
              "    <tr style=\"text-align: right;\">\n",
              "      <th></th>\n",
              "      <th>Series</th>\n",
              "      <th>Country</th>\n",
              "      <th>Year</th>\n",
              "      <th>Value</th>\n",
              "    </tr>\n",
              "  </thead>\n",
              "  <tbody>\n",
              "    <tr>\n",
              "      <th>7611</th>\n",
              "      <td>Women participating in own health care decisio...</td>\n",
              "      <td>Zimbabwe</td>\n",
              "      <td>2018</td>\n",
              "      <td>76.506525</td>\n",
              "    </tr>\n",
              "    <tr>\n",
              "      <th>7612</th>\n",
              "      <td>Women participating in the three decisions (ow...</td>\n",
              "      <td>Zimbabwe</td>\n",
              "      <td>2018</td>\n",
              "      <td>79.964010</td>\n",
              "    </tr>\n",
              "    <tr>\n",
              "      <th>7613</th>\n",
              "      <td>Women who believe a husband is justified in be...</td>\n",
              "      <td>Zimbabwe</td>\n",
              "      <td>2018</td>\n",
              "      <td>38.602836</td>\n",
              "    </tr>\n",
              "    <tr>\n",
              "      <th>7614</th>\n",
              "      <td>Women, Business and the Law: Marriage Indicato...</td>\n",
              "      <td>Zimbabwe</td>\n",
              "      <td>2018</td>\n",
              "      <td>80.000000</td>\n",
              "    </tr>\n",
              "    <tr>\n",
              "      <th>7615</th>\n",
              "      <td>Women, Business and the Law: Mobility Indicato...</td>\n",
              "      <td>Zimbabwe</td>\n",
              "      <td>2018</td>\n",
              "      <td>100.000000</td>\n",
              "    </tr>\n",
              "  </tbody>\n",
              "</table>\n",
              "</div>\n",
              "      <button class=\"colab-df-convert\" onclick=\"convertToInteractive('df-c2c2a455-196c-4252-8975-307effe59bc8')\"\n",
              "              title=\"Convert this dataframe to an interactive table.\"\n",
              "              style=\"display:none;\">\n",
              "        \n",
              "  <svg xmlns=\"http://www.w3.org/2000/svg\" height=\"24px\"viewBox=\"0 0 24 24\"\n",
              "       width=\"24px\">\n",
              "    <path d=\"M0 0h24v24H0V0z\" fill=\"none\"/>\n",
              "    <path d=\"M18.56 5.44l.94 2.06.94-2.06 2.06-.94-2.06-.94-.94-2.06-.94 2.06-2.06.94zm-11 1L8.5 8.5l.94-2.06 2.06-.94-2.06-.94L8.5 2.5l-.94 2.06-2.06.94zm10 10l.94 2.06.94-2.06 2.06-.94-2.06-.94-.94-2.06-.94 2.06-2.06.94z\"/><path d=\"M17.41 7.96l-1.37-1.37c-.4-.4-.92-.59-1.43-.59-.52 0-1.04.2-1.43.59L10.3 9.45l-7.72 7.72c-.78.78-.78 2.05 0 2.83L4 21.41c.39.39.9.59 1.41.59.51 0 1.02-.2 1.41-.59l7.78-7.78 2.81-2.81c.8-.78.8-2.07 0-2.86zM5.41 20L4 18.59l7.72-7.72 1.47 1.35L5.41 20z\"/>\n",
              "  </svg>\n",
              "      </button>\n",
              "      \n",
              "  <style>\n",
              "    .colab-df-container {\n",
              "      display:flex;\n",
              "      flex-wrap:wrap;\n",
              "      gap: 12px;\n",
              "    }\n",
              "\n",
              "    .colab-df-convert {\n",
              "      background-color: #E8F0FE;\n",
              "      border: none;\n",
              "      border-radius: 50%;\n",
              "      cursor: pointer;\n",
              "      display: none;\n",
              "      fill: #1967D2;\n",
              "      height: 32px;\n",
              "      padding: 0 0 0 0;\n",
              "      width: 32px;\n",
              "    }\n",
              "\n",
              "    .colab-df-convert:hover {\n",
              "      background-color: #E2EBFA;\n",
              "      box-shadow: 0px 1px 2px rgba(60, 64, 67, 0.3), 0px 1px 3px 1px rgba(60, 64, 67, 0.15);\n",
              "      fill: #174EA6;\n",
              "    }\n",
              "\n",
              "    [theme=dark] .colab-df-convert {\n",
              "      background-color: #3B4455;\n",
              "      fill: #D2E3FC;\n",
              "    }\n",
              "\n",
              "    [theme=dark] .colab-df-convert:hover {\n",
              "      background-color: #434B5C;\n",
              "      box-shadow: 0px 1px 3px 1px rgba(0, 0, 0, 0.15);\n",
              "      filter: drop-shadow(0px 1px 2px rgba(0, 0, 0, 0.3));\n",
              "      fill: #FFFFFF;\n",
              "    }\n",
              "  </style>\n",
              "\n",
              "      <script>\n",
              "        const buttonEl =\n",
              "          document.querySelector('#df-c2c2a455-196c-4252-8975-307effe59bc8 button.colab-df-convert');\n",
              "        buttonEl.style.display =\n",
              "          google.colab.kernel.accessAllowed ? 'block' : 'none';\n",
              "\n",
              "        async function convertToInteractive(key) {\n",
              "          const element = document.querySelector('#df-c2c2a455-196c-4252-8975-307effe59bc8');\n",
              "          const dataTable =\n",
              "            await google.colab.kernel.invokeFunction('convertToInteractive',\n",
              "                                                     [key], {});\n",
              "          if (!dataTable) return;\n",
              "\n",
              "          const docLinkHtml = 'Like what you see? Visit the ' +\n",
              "            '<a target=\"_blank\" href=https://colab.research.google.com/notebooks/data_table.ipynb>data table notebook</a>'\n",
              "            + ' to learn more about interactive tables.';\n",
              "          element.innerHTML = '';\n",
              "          dataTable['output_type'] = 'display_data';\n",
              "          await google.colab.output.renderOutput(dataTable, element);\n",
              "          const docLink = document.createElement('div');\n",
              "          docLink.innerHTML = docLinkHtml;\n",
              "          element.appendChild(docLink);\n",
              "        }\n",
              "      </script>\n",
              "    </div>\n",
              "  </div>\n",
              "  "
            ]
          },
          "metadata": {},
          "execution_count": 45
        }
      ]
    },
    {
      "cell_type": "code",
      "source": [
        "# Pivot the data with rows: year and columns: indicator, and rename the columns\n",
        "\n",
        "pivoted_df = pd.pivot_table(melted_df, index=['Country','Year'], \n",
        "                            columns='Series', values='Value')\n",
        "pivoted_df.columns = ['Health decision: husband','Health decision: wife','Health decision: jointly',\n",
        "                      'Visit decision: husband','Visit decision: wife','Visit decision: jointly',\n",
        "                      'Purchase decision: husband','Purchase decision: wife','Purchase decision: jointly',\n",
        "                      'Visit participation', 'Purchase participation',\n",
        "                      'None participation', 'Health participation', 'All participation',\n",
        "                      'Beating wife', 'Marriage score', 'Mobility score']\n",
        "pivoted_df = pivoted_df.reset_index()\n",
        "pivoted_df.head()"
      ],
      "metadata": {
        "colab": {
          "base_uri": "https://localhost:8080/",
          "height": 305
        },
        "id": "vCiJXX_Tqg81",
        "outputId": "f3756b17-c298-46f7-b158-f28c8d8e4e52"
      },
      "execution_count": null,
      "outputs": [
        {
          "output_type": "execute_result",
          "data": {
            "text/plain": [
              "   Country  Year  Health decision: husband  Health decision: wife  \\\n",
              "0  Armenia  2003                  7.954604              33.875563   \n",
              "1  Armenia  2004                  7.624269              35.788608   \n",
              "2  Armenia  2005                  7.794872              34.153846   \n",
              "3  Armenia  2006                  7.020363              28.376986   \n",
              "4  Armenia  2007                  5.768802              21.965737   \n",
              "\n",
              "   Health decision: jointly  Visit decision: husband  Visit decision: wife  \\\n",
              "0                 58.169833                 8.184104             13.996048   \n",
              "1                 56.587123                 7.921424             14.931040   \n",
              "2                 58.051282                 7.959641             14.237668   \n",
              "3                 64.602652                 7.107316             12.411880   \n",
              "4                 72.265461                 6.024526             10.533510   \n",
              "\n",
              "   Visit decision: jointly  Purchase decision: husband  \\\n",
              "0                81.449924                   13.428266   \n",
              "1                83.341575                   13.546999   \n",
              "2                83.295964                   13.071201   \n",
              "3                85.195641                   10.487837   \n",
              "4                86.144927                    7.662980   \n",
              "\n",
              "   Purchase decision: wife  Purchase decision: jointly  Visit participation  \\\n",
              "0                25.640579                   57.428238            86.635522   \n",
              "1                24.418831                   56.201414            87.008241   \n",
              "2                24.442083                   57.279490            87.000000   \n",
              "3                21.930142                   63.079471            88.251409   \n",
              "4                19.327260                   70.377934            89.815449   \n",
              "\n",
              "   Purchase participation  None participation  Health participation  \\\n",
              "0               75.801956            5.418878             90.356630   \n",
              "1               75.780843            5.170527             90.025250   \n",
              "2               76.800000            5.200000             89.900000   \n",
              "3               80.488663            4.511838             91.000906   \n",
              "4               83.493757            3.630303             93.289386   \n",
              "\n",
              "   All participation  Beating wife  Marriage score  Mobility score  \n",
              "0          71.309578     23.243818            80.0           100.0  \n",
              "1          70.738159     22.487122            80.0           100.0  \n",
              "2          71.600000     22.100000            80.0           100.0  \n",
              "3          75.274737     18.049168            80.0           100.0  \n",
              "4          79.240723     13.649558            80.0           100.0  "
            ],
            "text/html": [
              "\n",
              "  <div id=\"df-59d2eb9b-e4bc-4aa2-b35d-f8bc6a0a072e\">\n",
              "    <div class=\"colab-df-container\">\n",
              "      <div>\n",
              "<style scoped>\n",
              "    .dataframe tbody tr th:only-of-type {\n",
              "        vertical-align: middle;\n",
              "    }\n",
              "\n",
              "    .dataframe tbody tr th {\n",
              "        vertical-align: top;\n",
              "    }\n",
              "\n",
              "    .dataframe thead th {\n",
              "        text-align: right;\n",
              "    }\n",
              "</style>\n",
              "<table border=\"1\" class=\"dataframe\">\n",
              "  <thead>\n",
              "    <tr style=\"text-align: right;\">\n",
              "      <th></th>\n",
              "      <th>Country</th>\n",
              "      <th>Year</th>\n",
              "      <th>Health decision: husband</th>\n",
              "      <th>Health decision: wife</th>\n",
              "      <th>Health decision: jointly</th>\n",
              "      <th>Visit decision: husband</th>\n",
              "      <th>Visit decision: wife</th>\n",
              "      <th>Visit decision: jointly</th>\n",
              "      <th>Purchase decision: husband</th>\n",
              "      <th>Purchase decision: wife</th>\n",
              "      <th>Purchase decision: jointly</th>\n",
              "      <th>Visit participation</th>\n",
              "      <th>Purchase participation</th>\n",
              "      <th>None participation</th>\n",
              "      <th>Health participation</th>\n",
              "      <th>All participation</th>\n",
              "      <th>Beating wife</th>\n",
              "      <th>Marriage score</th>\n",
              "      <th>Mobility score</th>\n",
              "    </tr>\n",
              "  </thead>\n",
              "  <tbody>\n",
              "    <tr>\n",
              "      <th>0</th>\n",
              "      <td>Armenia</td>\n",
              "      <td>2003</td>\n",
              "      <td>7.954604</td>\n",
              "      <td>33.875563</td>\n",
              "      <td>58.169833</td>\n",
              "      <td>8.184104</td>\n",
              "      <td>13.996048</td>\n",
              "      <td>81.449924</td>\n",
              "      <td>13.428266</td>\n",
              "      <td>25.640579</td>\n",
              "      <td>57.428238</td>\n",
              "      <td>86.635522</td>\n",
              "      <td>75.801956</td>\n",
              "      <td>5.418878</td>\n",
              "      <td>90.356630</td>\n",
              "      <td>71.309578</td>\n",
              "      <td>23.243818</td>\n",
              "      <td>80.0</td>\n",
              "      <td>100.0</td>\n",
              "    </tr>\n",
              "    <tr>\n",
              "      <th>1</th>\n",
              "      <td>Armenia</td>\n",
              "      <td>2004</td>\n",
              "      <td>7.624269</td>\n",
              "      <td>35.788608</td>\n",
              "      <td>56.587123</td>\n",
              "      <td>7.921424</td>\n",
              "      <td>14.931040</td>\n",
              "      <td>83.341575</td>\n",
              "      <td>13.546999</td>\n",
              "      <td>24.418831</td>\n",
              "      <td>56.201414</td>\n",
              "      <td>87.008241</td>\n",
              "      <td>75.780843</td>\n",
              "      <td>5.170527</td>\n",
              "      <td>90.025250</td>\n",
              "      <td>70.738159</td>\n",
              "      <td>22.487122</td>\n",
              "      <td>80.0</td>\n",
              "      <td>100.0</td>\n",
              "    </tr>\n",
              "    <tr>\n",
              "      <th>2</th>\n",
              "      <td>Armenia</td>\n",
              "      <td>2005</td>\n",
              "      <td>7.794872</td>\n",
              "      <td>34.153846</td>\n",
              "      <td>58.051282</td>\n",
              "      <td>7.959641</td>\n",
              "      <td>14.237668</td>\n",
              "      <td>83.295964</td>\n",
              "      <td>13.071201</td>\n",
              "      <td>24.442083</td>\n",
              "      <td>57.279490</td>\n",
              "      <td>87.000000</td>\n",
              "      <td>76.800000</td>\n",
              "      <td>5.200000</td>\n",
              "      <td>89.900000</td>\n",
              "      <td>71.600000</td>\n",
              "      <td>22.100000</td>\n",
              "      <td>80.0</td>\n",
              "      <td>100.0</td>\n",
              "    </tr>\n",
              "    <tr>\n",
              "      <th>3</th>\n",
              "      <td>Armenia</td>\n",
              "      <td>2006</td>\n",
              "      <td>7.020363</td>\n",
              "      <td>28.376986</td>\n",
              "      <td>64.602652</td>\n",
              "      <td>7.107316</td>\n",
              "      <td>12.411880</td>\n",
              "      <td>85.195641</td>\n",
              "      <td>10.487837</td>\n",
              "      <td>21.930142</td>\n",
              "      <td>63.079471</td>\n",
              "      <td>88.251409</td>\n",
              "      <td>80.488663</td>\n",
              "      <td>4.511838</td>\n",
              "      <td>91.000906</td>\n",
              "      <td>75.274737</td>\n",
              "      <td>18.049168</td>\n",
              "      <td>80.0</td>\n",
              "      <td>100.0</td>\n",
              "    </tr>\n",
              "    <tr>\n",
              "      <th>4</th>\n",
              "      <td>Armenia</td>\n",
              "      <td>2007</td>\n",
              "      <td>5.768802</td>\n",
              "      <td>21.965737</td>\n",
              "      <td>72.265461</td>\n",
              "      <td>6.024526</td>\n",
              "      <td>10.533510</td>\n",
              "      <td>86.144927</td>\n",
              "      <td>7.662980</td>\n",
              "      <td>19.327260</td>\n",
              "      <td>70.377934</td>\n",
              "      <td>89.815449</td>\n",
              "      <td>83.493757</td>\n",
              "      <td>3.630303</td>\n",
              "      <td>93.289386</td>\n",
              "      <td>79.240723</td>\n",
              "      <td>13.649558</td>\n",
              "      <td>80.0</td>\n",
              "      <td>100.0</td>\n",
              "    </tr>\n",
              "  </tbody>\n",
              "</table>\n",
              "</div>\n",
              "      <button class=\"colab-df-convert\" onclick=\"convertToInteractive('df-59d2eb9b-e4bc-4aa2-b35d-f8bc6a0a072e')\"\n",
              "              title=\"Convert this dataframe to an interactive table.\"\n",
              "              style=\"display:none;\">\n",
              "        \n",
              "  <svg xmlns=\"http://www.w3.org/2000/svg\" height=\"24px\"viewBox=\"0 0 24 24\"\n",
              "       width=\"24px\">\n",
              "    <path d=\"M0 0h24v24H0V0z\" fill=\"none\"/>\n",
              "    <path d=\"M18.56 5.44l.94 2.06.94-2.06 2.06-.94-2.06-.94-.94-2.06-.94 2.06-2.06.94zm-11 1L8.5 8.5l.94-2.06 2.06-.94-2.06-.94L8.5 2.5l-.94 2.06-2.06.94zm10 10l.94 2.06.94-2.06 2.06-.94-2.06-.94-.94-2.06-.94 2.06-2.06.94z\"/><path d=\"M17.41 7.96l-1.37-1.37c-.4-.4-.92-.59-1.43-.59-.52 0-1.04.2-1.43.59L10.3 9.45l-7.72 7.72c-.78.78-.78 2.05 0 2.83L4 21.41c.39.39.9.59 1.41.59.51 0 1.02-.2 1.41-.59l7.78-7.78 2.81-2.81c.8-.78.8-2.07 0-2.86zM5.41 20L4 18.59l7.72-7.72 1.47 1.35L5.41 20z\"/>\n",
              "  </svg>\n",
              "      </button>\n",
              "      \n",
              "  <style>\n",
              "    .colab-df-container {\n",
              "      display:flex;\n",
              "      flex-wrap:wrap;\n",
              "      gap: 12px;\n",
              "    }\n",
              "\n",
              "    .colab-df-convert {\n",
              "      background-color: #E8F0FE;\n",
              "      border: none;\n",
              "      border-radius: 50%;\n",
              "      cursor: pointer;\n",
              "      display: none;\n",
              "      fill: #1967D2;\n",
              "      height: 32px;\n",
              "      padding: 0 0 0 0;\n",
              "      width: 32px;\n",
              "    }\n",
              "\n",
              "    .colab-df-convert:hover {\n",
              "      background-color: #E2EBFA;\n",
              "      box-shadow: 0px 1px 2px rgba(60, 64, 67, 0.3), 0px 1px 3px 1px rgba(60, 64, 67, 0.15);\n",
              "      fill: #174EA6;\n",
              "    }\n",
              "\n",
              "    [theme=dark] .colab-df-convert {\n",
              "      background-color: #3B4455;\n",
              "      fill: #D2E3FC;\n",
              "    }\n",
              "\n",
              "    [theme=dark] .colab-df-convert:hover {\n",
              "      background-color: #434B5C;\n",
              "      box-shadow: 0px 1px 3px 1px rgba(0, 0, 0, 0.15);\n",
              "      filter: drop-shadow(0px 1px 2px rgba(0, 0, 0, 0.3));\n",
              "      fill: #FFFFFF;\n",
              "    }\n",
              "  </style>\n",
              "\n",
              "      <script>\n",
              "        const buttonEl =\n",
              "          document.querySelector('#df-59d2eb9b-e4bc-4aa2-b35d-f8bc6a0a072e button.colab-df-convert');\n",
              "        buttonEl.style.display =\n",
              "          google.colab.kernel.accessAllowed ? 'block' : 'none';\n",
              "\n",
              "        async function convertToInteractive(key) {\n",
              "          const element = document.querySelector('#df-59d2eb9b-e4bc-4aa2-b35d-f8bc6a0a072e');\n",
              "          const dataTable =\n",
              "            await google.colab.kernel.invokeFunction('convertToInteractive',\n",
              "                                                     [key], {});\n",
              "          if (!dataTable) return;\n",
              "\n",
              "          const docLinkHtml = 'Like what you see? Visit the ' +\n",
              "            '<a target=\"_blank\" href=https://colab.research.google.com/notebooks/data_table.ipynb>data table notebook</a>'\n",
              "            + ' to learn more about interactive tables.';\n",
              "          element.innerHTML = '';\n",
              "          dataTable['output_type'] = 'display_data';\n",
              "          await google.colab.output.renderOutput(dataTable, element);\n",
              "          const docLink = document.createElement('div');\n",
              "          docLink.innerHTML = docLinkHtml;\n",
              "          element.appendChild(docLink);\n",
              "        }\n",
              "      </script>\n",
              "    </div>\n",
              "  </div>\n",
              "  "
            ]
          },
          "metadata": {},
          "execution_count": 46
        }
      ]
    },
    {
      "cell_type": "code",
      "source": [
        "pivoted_df.to_excel(\"Final_decision_making.xlsx\", index=False)"
      ],
      "metadata": {
        "id": "7LFkgPOlwreE"
      },
      "execution_count": null,
      "outputs": []
    },
    {
      "cell_type": "markdown",
      "source": [
        "## Forecast Woman Participation"
      ],
      "metadata": {
        "id": "j5Pqa79Nw7xn"
      }
    },
    {
      "cell_type": "code",
      "source": [
        "final_df = load_data(\"1w-YMkDywP_Wcz-cVbb3GpkKn85f-f8Rk\") # Participation data to be forecasted\n",
        "forecast_df = final_df[['Country','Year','All participation','None participation']]\n",
        "forecast_df.head(2)"
      ],
      "metadata": {
        "colab": {
          "base_uri": "https://localhost:8080/",
          "height": 112
        },
        "id": "857XOOfQxAHs",
        "outputId": "1fb2fd05-cbfc-4e43-dd60-201fe0821ccb"
      },
      "execution_count": null,
      "outputs": [
        {
          "output_type": "execute_result",
          "data": {
            "text/plain": [
              "   Country  Year  All participation  None participation\n",
              "0  Armenia  2003          71.309578            5.418878\n",
              "1  Armenia  2004          70.738159            5.170527"
            ],
            "text/html": [
              "\n",
              "  <div id=\"df-d644e6da-335f-4935-a4b8-0df4572e5166\">\n",
              "    <div class=\"colab-df-container\">\n",
              "      <div>\n",
              "<style scoped>\n",
              "    .dataframe tbody tr th:only-of-type {\n",
              "        vertical-align: middle;\n",
              "    }\n",
              "\n",
              "    .dataframe tbody tr th {\n",
              "        vertical-align: top;\n",
              "    }\n",
              "\n",
              "    .dataframe thead th {\n",
              "        text-align: right;\n",
              "    }\n",
              "</style>\n",
              "<table border=\"1\" class=\"dataframe\">\n",
              "  <thead>\n",
              "    <tr style=\"text-align: right;\">\n",
              "      <th></th>\n",
              "      <th>Country</th>\n",
              "      <th>Year</th>\n",
              "      <th>All participation</th>\n",
              "      <th>None participation</th>\n",
              "    </tr>\n",
              "  </thead>\n",
              "  <tbody>\n",
              "    <tr>\n",
              "      <th>0</th>\n",
              "      <td>Armenia</td>\n",
              "      <td>2003</td>\n",
              "      <td>71.309578</td>\n",
              "      <td>5.418878</td>\n",
              "    </tr>\n",
              "    <tr>\n",
              "      <th>1</th>\n",
              "      <td>Armenia</td>\n",
              "      <td>2004</td>\n",
              "      <td>70.738159</td>\n",
              "      <td>5.170527</td>\n",
              "    </tr>\n",
              "  </tbody>\n",
              "</table>\n",
              "</div>\n",
              "      <button class=\"colab-df-convert\" onclick=\"convertToInteractive('df-d644e6da-335f-4935-a4b8-0df4572e5166')\"\n",
              "              title=\"Convert this dataframe to an interactive table.\"\n",
              "              style=\"display:none;\">\n",
              "        \n",
              "  <svg xmlns=\"http://www.w3.org/2000/svg\" height=\"24px\"viewBox=\"0 0 24 24\"\n",
              "       width=\"24px\">\n",
              "    <path d=\"M0 0h24v24H0V0z\" fill=\"none\"/>\n",
              "    <path d=\"M18.56 5.44l.94 2.06.94-2.06 2.06-.94-2.06-.94-.94-2.06-.94 2.06-2.06.94zm-11 1L8.5 8.5l.94-2.06 2.06-.94-2.06-.94L8.5 2.5l-.94 2.06-2.06.94zm10 10l.94 2.06.94-2.06 2.06-.94-2.06-.94-.94-2.06-.94 2.06-2.06.94z\"/><path d=\"M17.41 7.96l-1.37-1.37c-.4-.4-.92-.59-1.43-.59-.52 0-1.04.2-1.43.59L10.3 9.45l-7.72 7.72c-.78.78-.78 2.05 0 2.83L4 21.41c.39.39.9.59 1.41.59.51 0 1.02-.2 1.41-.59l7.78-7.78 2.81-2.81c.8-.78.8-2.07 0-2.86zM5.41 20L4 18.59l7.72-7.72 1.47 1.35L5.41 20z\"/>\n",
              "  </svg>\n",
              "      </button>\n",
              "      \n",
              "  <style>\n",
              "    .colab-df-container {\n",
              "      display:flex;\n",
              "      flex-wrap:wrap;\n",
              "      gap: 12px;\n",
              "    }\n",
              "\n",
              "    .colab-df-convert {\n",
              "      background-color: #E8F0FE;\n",
              "      border: none;\n",
              "      border-radius: 50%;\n",
              "      cursor: pointer;\n",
              "      display: none;\n",
              "      fill: #1967D2;\n",
              "      height: 32px;\n",
              "      padding: 0 0 0 0;\n",
              "      width: 32px;\n",
              "    }\n",
              "\n",
              "    .colab-df-convert:hover {\n",
              "      background-color: #E2EBFA;\n",
              "      box-shadow: 0px 1px 2px rgba(60, 64, 67, 0.3), 0px 1px 3px 1px rgba(60, 64, 67, 0.15);\n",
              "      fill: #174EA6;\n",
              "    }\n",
              "\n",
              "    [theme=dark] .colab-df-convert {\n",
              "      background-color: #3B4455;\n",
              "      fill: #D2E3FC;\n",
              "    }\n",
              "\n",
              "    [theme=dark] .colab-df-convert:hover {\n",
              "      background-color: #434B5C;\n",
              "      box-shadow: 0px 1px 3px 1px rgba(0, 0, 0, 0.15);\n",
              "      filter: drop-shadow(0px 1px 2px rgba(0, 0, 0, 0.3));\n",
              "      fill: #FFFFFF;\n",
              "    }\n",
              "  </style>\n",
              "\n",
              "      <script>\n",
              "        const buttonEl =\n",
              "          document.querySelector('#df-d644e6da-335f-4935-a4b8-0df4572e5166 button.colab-df-convert');\n",
              "        buttonEl.style.display =\n",
              "          google.colab.kernel.accessAllowed ? 'block' : 'none';\n",
              "\n",
              "        async function convertToInteractive(key) {\n",
              "          const element = document.querySelector('#df-d644e6da-335f-4935-a4b8-0df4572e5166');\n",
              "          const dataTable =\n",
              "            await google.colab.kernel.invokeFunction('convertToInteractive',\n",
              "                                                     [key], {});\n",
              "          if (!dataTable) return;\n",
              "\n",
              "          const docLinkHtml = 'Like what you see? Visit the ' +\n",
              "            '<a target=\"_blank\" href=https://colab.research.google.com/notebooks/data_table.ipynb>data table notebook</a>'\n",
              "            + ' to learn more about interactive tables.';\n",
              "          element.innerHTML = '';\n",
              "          dataTable['output_type'] = 'display_data';\n",
              "          await google.colab.output.renderOutput(dataTable, element);\n",
              "          const docLink = document.createElement('div');\n",
              "          docLink.innerHTML = docLinkHtml;\n",
              "          element.appendChild(docLink);\n",
              "        }\n",
              "      </script>\n",
              "    </div>\n",
              "  </div>\n",
              "  "
            ]
          },
          "metadata": {},
          "execution_count": 5
        }
      ]
    },
    {
      "cell_type": "code",
      "source": [
        "# Filter the data \n",
        "indonesia = forecast_df.query('Country==\"Indonesia\"')\n",
        "indonesia_all = indonesia[[\"Year\",\"All participation\"]].set_index(\"Year\")\n",
        "indonesia_none = indonesia[[\"Year\",\"None participation\"]].set_index(\"Year\")"
      ],
      "metadata": {
        "id": "d65zGl_dx4i7"
      },
      "execution_count": null,
      "outputs": []
    },
    {
      "cell_type": "code",
      "source": [
        "# Stationary Test\n",
        "\n",
        "for i,j in [(indonesia_all,'All participation:'), (indonesia_none,'None participation:')]:\n",
        "  result = adfuller(i.iloc[:,0].dropna())\n",
        "  pvalue = result[1]\n",
        "  if pvalue < 0.05:\n",
        "      print(j,'Stationary')\n",
        "  else:\n",
        "      print(j,'Not Stationary')"
      ],
      "metadata": {
        "colab": {
          "base_uri": "https://localhost:8080/"
        },
        "id": "TiO4jegWyPRy",
        "outputId": "2ace78ff-d22f-40d2-d074-04b11c9ef0df"
      },
      "execution_count": null,
      "outputs": [
        {
          "output_type": "stream",
          "name": "stdout",
          "text": [
            "All participation: Stationary\n",
            "None participation: Not Stationary\n"
          ]
        },
        {
          "output_type": "stream",
          "name": "stderr",
          "text": [
            "pandas.util.testing is deprecated. Use the functions in the public API at pandas.testing instead.\n"
          ]
        }
      ]
    },
    {
      "cell_type": "code",
      "source": [
        "# Plot the autocorrelation and the partial autocorrelation\n",
        "plot_acf(indonesia_all.diff().dropna(), lags=indonesia_all.shape[0]-2)\n",
        "plot_pacf(indonesia_all.diff().dropna(), lags=indonesia_all.shape[0])\n",
        "plt.show()"
      ],
      "metadata": {
        "colab": {
          "base_uri": "https://localhost:8080/",
          "height": 580
        },
        "id": "4ko63c0R2xf9",
        "outputId": "87617e72-400c-4242-db2d-fcd2beae8069"
      },
      "execution_count": null,
      "outputs": [
        {
          "output_type": "stream",
          "name": "stderr",
          "text": [
            "invalid value encountered in sqrt\n",
            "invalid value encountered in double_scalars\n"
          ]
        },
        {
          "output_type": "display_data",
          "data": {
            "text/plain": [
              "<Figure size 432x288 with 1 Axes>"
            ],
            "image/png": "[encoded data removed]"
          },
          "metadata": {
            "needs_background": "light"
          }
        },
        {
          "output_type": "display_data",
          "data": {
            "text/plain": [
              "<Figure size 432x288 with 1 Axes>"
            ],
            "image/png": "[encoded data removed]"
          },
          "metadata": {
            "needs_background": "light"
          }
        }
      ]
    },
    {
      "cell_type": "code",
      "source": [
        "plot_acf(indonesia_none.diff().dropna(), lags=indonesia_none.shape[0]-2)\n",
        "plot_pacf(indonesia_none.diff().dropna(), lags=indonesia_none.shape[0])\n",
        "plt.show()"
      ],
      "metadata": {
        "colab": {
          "base_uri": "https://localhost:8080/",
          "height": 580
        },
        "id": "w0iBs7TvUrei",
        "outputId": "0dd3098e-59af-4bbb-a6c1-26cc9dd86b31"
      },
      "execution_count": null,
      "outputs": [
        {
          "output_type": "stream",
          "name": "stderr",
          "text": [
            "invalid value encountered in sqrt\n",
            "invalid value encountered in double_scalars\n"
          ]
        },
        {
          "output_type": "display_data",
          "data": {
            "text/plain": [
              "<Figure size 432x288 with 1 Axes>"
            ],
            "image/png": "[encoded data removed]"
          },
          "metadata": {
            "needs_background": "light"
          }
        },
        {
          "output_type": "display_data",
          "data": {
            "text/plain": [
              "<Figure size 432x288 with 1 Axes>"
            ],
            "image/png": "[encoded data removed]"
          },
          "metadata": {
            "needs_background": "light"
          }
        }
      ]
    },
    {
      "cell_type": "markdown",
      "source": [
        "### All participation"
      ],
      "metadata": {
        "id": "Pix1IgksSi7B"
      }
    },
    {
      "cell_type": "code",
      "source": [
        "# Loop for searching the fit parameter AR & MA with RMSE metrics\n",
        "data_array = indonesia_all.values\n",
        "\n",
        "d=0\n",
        "for p in range(6):\n",
        "        for q in range(4):\n",
        "            try:\n",
        "              step = 9\n",
        "              X_train, X_test = data_array[:-step], data_array[-step:]\n",
        "              mod = ARIMA(X_train, order=(p,d,q))\n",
        "              res = mod.fit()\n",
        "              print((p,d,q),round(mean_squared_error(X_test, \n",
        "                                                     res.forecast(steps=step)[0], squared=False),3))\n",
        "            except:\n",
        "              pass"
      ],
      "metadata": {
        "colab": {
          "base_uri": "https://localhost:8080/"
        },
        "id": "sjE1S_1X5P-M",
        "outputId": "15e7a811-c928-4776-aeb9-596563df720b"
      },
      "execution_count": null,
      "outputs": [
        {
          "output_type": "stream",
          "name": "stdout",
          "text": [
            "(0, 0, 0) 0.97\n",
            "(0, 0, 1) 0.992\n",
            "(1, 0, 0) 0.973\n"
          ]
        },
        {
          "output_type": "stream",
          "name": "stderr",
          "text": [
            "divide by zero encountered in log\n",
            "divide by zero encountered in log\n"
          ]
        },
        {
          "output_type": "stream",
          "name": "stdout",
          "text": [
            "(2, 0, 0) 0.987\n",
            "(2, 0, 1) 0.995\n"
          ]
        },
        {
          "output_type": "stream",
          "name": "stderr",
          "text": [
            "divide by zero encountered in log\n",
            "divide by zero encountered in log\n",
            "invalid value encountered in subtract\n",
            "invalid value encountered in double_scalars\n"
          ]
        },
        {
          "output_type": "stream",
          "name": "stdout",
          "text": [
            "(3, 0, 0) 0.993\n"
          ]
        },
        {
          "output_type": "stream",
          "name": "stderr",
          "text": [
            "divide by zero encountered in log\n"
          ]
        },
        {
          "output_type": "stream",
          "name": "stdout",
          "text": [
            "(3, 0, 1) 1.064\n"
          ]
        },
        {
          "output_type": "stream",
          "name": "stderr",
          "text": [
            "divide by zero encountered in log\n",
            "Inverting hessian failed, no bse or cov_params available\n",
            "invalid value encountered in sqrt\n",
            "divide by zero encountered in log\n"
          ]
        },
        {
          "output_type": "stream",
          "name": "stdout",
          "text": [
            "(3, 0, 2) 1.015\n",
            "(4, 0, 1) 1.184\n"
          ]
        },
        {
          "output_type": "stream",
          "name": "stderr",
          "text": [
            "Inverting hessian failed, no bse or cov_params available\n"
          ]
        }
      ]
    },
    {
      "cell_type": "code",
      "source": [
        "# Evaluate the ARMA model\n",
        "step = 5\n",
        "X_train, X_test = data_array[:-step], data_array[-step:]\n",
        "mod = ARIMA(X_train, order=(3,0,0))\n",
        "res = mod.fit()\n",
        "\n",
        "plt.plot(indonesia_all)  \n",
        "plt.plot(pd.Series(res.forecast(steps=step)[0], index=indonesia_all[-step:].index))\n",
        "plt.legend(['Actual', 'Predicted'])\n",
        "plt.xlabel('Time steps of test data')\n",
        "plt.show()"
      ],
      "metadata": {
        "colab": {
          "base_uri": "https://localhost:8080/",
          "height": 279
        },
        "id": "Wm0dKjqgExhE",
        "outputId": "4a69017f-aed7-4b40-979a-7bad87bf1b90"
      },
      "execution_count": null,
      "outputs": [
        {
          "output_type": "display_data",
          "data": {
            "text/plain": [
              "<Figure size 432x288 with 1 Axes>"
            ],
            "image/png": "[encoded data removed]"
          },
          "metadata": {
            "needs_background": "light"
          }
        }
      ]
    },
    {
      "cell_type": "code",
      "source": [
        "# Forecast the all participation until 2025 with ARMA\n",
        "train = indonesia_all.iloc[:,0].values\n",
        "\n",
        "model = ARIMA(train, order=(3, 0, 0))  \n",
        "fitted = model.fit()  \n",
        "\n",
        "# Forecast\n",
        "step=7\n",
        "fc, se, conf = fitted.forecast(step, alpha=0.05)  # 95% conf\n",
        "\n",
        "# Make as pandas series\n",
        "idx = list(range(max(indonesia_all.index)+1, max(indonesia_all.index)+step+1))\n",
        "fc_series_all = pd.Series(fc, idx)\n",
        "lower_series_all = pd.Series(conf[:, 0], idx)\n",
        "upper_series_all = pd.Series(conf[:, 1], idx)\n",
        "\n",
        "# Plot\n",
        "plt.figure(figsize=(6,3), dpi=100)\n",
        "plt.plot(pd.Series(train, index=indonesia_all.index), label='training')\n",
        "plt.plot(fc_series_all, label='forecast')\n",
        "plt.fill_between(lower_series_all.index, lower_series_all, upper_series_all, \n",
        "                 color='k', alpha=.15)\n",
        "plt.legend(loc='upper left', fontsize=8)\n",
        "plt.show()"
      ],
      "metadata": {
        "colab": {
          "base_uri": "https://localhost:8080/",
          "height": 287
        },
        "id": "s12mCa7kIMLx",
        "outputId": "8ea9d454-788e-46e9-e224-438187e763c2"
      },
      "execution_count": null,
      "outputs": [
        {
          "output_type": "display_data",
          "data": {
            "text/plain": [
              "<Figure size 600x300 with 1 Axes>"
            ],
            "image/png": "[encoded data removed]"
          },
          "metadata": {
            "needs_background": "light"
          }
        }
      ]
    },
    {
      "cell_type": "markdown",
      "source": [
        "### None participation"
      ],
      "metadata": {
        "id": "4PnCopuBSmGB"
      }
    },
    {
      "cell_type": "code",
      "source": [
        "# Loop for searching the fit parameter AR, I & MA with RMSE metrics\n",
        "data_array = indonesia_none.values\n",
        "\n",
        "d=0\n",
        "for p in range(4):\n",
        "    for d in range(2):\n",
        "        for q in range(4):\n",
        "            try:\n",
        "              step = 3\n",
        "              X_train, X_test = data_array[:-step], data_array[-step:]\n",
        "              mod = ARIMA(X_train, order=(p,d,q))\n",
        "              res = mod.fit()\n",
        "              print((p,d,q),round(mean_squared_error(X_test, \n",
        "                                                     res.forecast(steps=step)[0], squared=False),3))\n",
        "            except:\n",
        "              pass"
      ],
      "metadata": {
        "colab": {
          "base_uri": "https://localhost:8080/"
        },
        "id": "UsBeX_pASrdy",
        "outputId": "5903f1fa-d0ef-41dc-d0b8-0f206d08f49f"
      },
      "execution_count": null,
      "outputs": [
        {
          "output_type": "stream",
          "name": "stdout",
          "text": [
            "(0, 0, 0) 0.359\n",
            "(0, 0, 1) 0.279\n",
            "(0, 1, 0) 0.321\n",
            "(0, 1, 1) 0.262\n"
          ]
        },
        {
          "output_type": "stream",
          "name": "stderr",
          "text": [
            "Inverting hessian failed, no bse or cov_params available\n"
          ]
        },
        {
          "output_type": "stream",
          "name": "stdout",
          "text": [
            "(0, 1, 2) 1.029\n",
            "(0, 1, 3) 0.917\n",
            "(1, 0, 0) 0.302\n",
            "(1, 0, 1) 0.253\n",
            "(1, 0, 2) 0.258\n",
            "(1, 0, 3) 0.491\n",
            "(1, 1, 0) 0.272\n",
            "(2, 0, 0) 0.241\n",
            "(2, 0, 1) 0.24\n"
          ]
        },
        {
          "output_type": "stream",
          "name": "stderr",
          "text": [
            "Inverting hessian failed, no bse or cov_params available\n"
          ]
        },
        {
          "output_type": "stream",
          "name": "stdout",
          "text": [
            "(2, 0, 2) 0.232\n",
            "(2, 0, 3) 0.512\n",
            "(2, 1, 0) 0.4\n",
            "(3, 0, 0) 0.24\n",
            "(3, 0, 1) 0.43\n",
            "(3, 0, 2) 0.45\n",
            "(3, 0, 3) 0.507\n"
          ]
        }
      ]
    },
    {
      "cell_type": "code",
      "source": [
        "# Evaluate the ARIMA model\n",
        "step = 3\n",
        "X_train, X_test = data_array[:-step], data_array[-step:]\n",
        "mod = ARIMA(X_train, order=(3,0,3))\n",
        "res = mod.fit()\n",
        "\n",
        "plt.plot(indonesia_none)  \n",
        "plt.plot(pd.Series(res.forecast(steps=step)[0], index=indonesia_none[-step:].index))\n",
        "plt.legend(['Actual', 'Predicted'])\n",
        "plt.xlabel('Time steps of test data')\n",
        "plt.show()"
      ],
      "metadata": {
        "colab": {
          "base_uri": "https://localhost:8080/"
        },
        "id": "W3p4rigEUECZ",
        "outputId": "4c8f0c61-ef26-478a-be7a-b6da0c5776ae"
      },
      "execution_count": null,
      "outputs": [
        {
          "output_type": "display_data",
          "data": {
            "text/plain": [
              "<Figure size 432x288 with 1 Axes>"
            ],
            "image/png": "[encoded data removed]"
          },
          "metadata": {
            "needs_background": "light"
          }
        }
      ]
    },
    {
      "cell_type": "code",
      "source": [
        "# Forecast the none participation until 2025 with ARIMA\n",
        "train = indonesia_none.iloc[:,0].values\n",
        "\n",
        "model = ARIMA(train, order=(3, 0, 3))  \n",
        "fitted = model.fit()  \n",
        "\n",
        "# Forecast\n",
        "step=7\n",
        "fc, se, conf = fitted.forecast(step, alpha=0.05)  # 95% conf\n",
        "\n",
        "# Make as pandas series\n",
        "idx = list(range(max(indonesia_none.index)+1, max(indonesia_none.index)+step+1))\n",
        "fc_series_none = pd.Series(fc, idx)\n",
        "lower_series_none = pd.Series(conf[:, 0], idx)\n",
        "upper_series_none = pd.Series(conf[:, 1], idx)\n",
        "\n",
        "# Plot\n",
        "plt.figure(figsize=(6,3), dpi=100)\n",
        "plt.plot(pd.Series(train, index=indonesia_none.index), label='training')\n",
        "plt.plot(fc_series_none, label='forecast')\n",
        "plt.fill_between(lower_series_none.index, lower_series_none, upper_series_none, \n",
        "                 color='k', alpha=.15)\n",
        "plt.legend(loc='upper left', fontsize=8)\n",
        "plt.show()"
      ],
      "metadata": {
        "colab": {
          "base_uri": "https://localhost:8080/",
          "height": 307
        },
        "id": "CS0ypEhOURLa",
        "outputId": "1cf6d0ac-136f-420f-a385-6fb0d2cf5d65"
      },
      "execution_count": null,
      "outputs": [
        {
          "output_type": "stream",
          "name": "stderr",
          "text": [
            "Inverting hessian failed, no bse or cov_params available\n"
          ]
        },
        {
          "output_type": "display_data",
          "data": {
            "text/plain": [
              "<Figure size 600x300 with 1 Axes>"
            ],
            "image/png": "[encoded data removed]"
          },
          "metadata": {
            "needs_background": "light"
          }
        }
      ]
    },
    {
      "cell_type": "markdown",
      "source": [
        "### Save Forecasting"
      ],
      "metadata": {
        "id": "rp3_cXC3H8ti"
      }
    },
    {
      "cell_type": "code",
      "source": [
        "# Merge all participation data with bounds\n",
        "forecast_all = pd.Series(fc_series_all, name='Forecast')\n",
        "real_all = indonesia_all.iloc[:,0].rename('Actual')\n",
        "lb_all = pd.Series(lower_series_all, name='Lower')\n",
        "ub_all = pd.Series(upper_series_all, name='Upper')\n",
        "pd.concat([real_all, forecast_all, lb_all, ub_all], axis=1).\\\n",
        "          to_excel('All_forecast.xlsx')"
      ],
      "metadata": {
        "id": "M1iEFfczKg3n"
      },
      "execution_count": null,
      "outputs": []
    },
    {
      "cell_type": "code",
      "source": [
        "# Merge none participation data with bounds\n",
        "forecast_none = pd.Series(fc_series_none, name='Forecast')\n",
        "real_none = indonesia_none.iloc[:,0].rename('Actual')\n",
        "lb_none = pd.Series(lower_series_none, name='Lower')\n",
        "ub_none = pd.Series(upper_series_none, name='Upper')\n",
        "pd.concat([real_none, forecast_none, lb_none, ub_none], axis=1).\\\n",
        "          to_excel('None_forecast.xlsx')"
      ],
      "metadata": {
        "id": "9sn_swc4OrXr"
      },
      "execution_count": null,
      "outputs": []
    },
    {
      "cell_type": "markdown",
      "source": [
        "## Correlation with Decision Making"
      ],
      "metadata": {
        "id": "_aBEKMnW35Kq"
      }
    },
    {
      "cell_type": "code",
      "source": [
        "gender = load_data('1lCrYzpGmOWwaLnYDJvdW6v6gc8CerQVl') # Decision Making Aspects data"
      ],
      "metadata": {
        "id": "UWAYuBT-4BCf"
      },
      "execution_count": null,
      "outputs": []
    },
    {
      "cell_type": "code",
      "source": [
        "# Concat the female and male data to find correlation\n",
        "female = gender[gender.columns[gender.columns.str.endswith('_f')]]\n",
        "male = gender[gender.columns[gender.columns.str.endswith('_m')]]\n",
        "female.columns = np.arange(female.shape[1]).astype(str)\n",
        "male.columns = np.arange(male.shape[1]).astype(str)\n",
        "\n",
        "gender_df = pd.DataFrame(pd.concat([female, male], axis=0, ignore_index=True))\n",
        "gender_df.columns = gender.columns[gender.columns.str.contains('_f')].str[:-2]"
      ],
      "metadata": {
        "id": "Qph0nKLb4sNZ"
      },
      "execution_count": null,
      "outputs": []
    },
    {
      "cell_type": "code",
      "source": [
        "# Correlation on decision maker with other aspects\n",
        "plt.figure(figsize=(6,8))\n",
        "sns.heatmap(gender_df.corr()[['decision_maker']].sort_values(\n",
        "    by='decision_maker', ascending=False), annot=True)"
      ],
      "metadata": {
        "colab": {
          "base_uri": "https://localhost:8080/",
          "height": 506
        },
        "id": "5K4rucV489a5",
        "outputId": "ac3c181b-df31-40e2-bf39-ee38b815e845"
      },
      "execution_count": null,
      "outputs": [
        {
          "output_type": "execute_result",
          "data": {
            "text/plain": [
              "<matplotlib.axes._subplots.AxesSubplot at 0x7f714de71710>"
            ]
          },
          "metadata": {},
          "execution_count": 55
        },
        {
          "output_type": "display_data",
          "data": {
            "text/plain": [
              "<Figure size 432x576 with 2 Axes>"
            ],
            "image/png": "[encoded data removed]"
          },
          "metadata": {
            "needs_background": "light"
          }
        }
      ]
    },
    {
      "cell_type": "code",
      "source": [
        "# Calculate the pearson correlation with p-value stastical significance\n",
        "new_df = {}\n",
        "for i in np.setdiff1d(gender_df.columns.values, ['decision_maker']):\n",
        "  new_df[i] = pearsonr(gender_df['decision_maker'],gender_df[i])\n",
        "new_df = pd.DataFrame(new_df, index=['decision_maker','p_value']).T"
      ],
      "metadata": {
        "id": "Tyuho6zI_yOB"
      },
      "execution_count": null,
      "outputs": []
    },
    {
      "cell_type": "code",
      "source": [
        "# Show the correlation and p-value\n",
        "plt.figure(figsize=(6,8))\n",
        "sns.heatmap(new_df.sort_values(\n",
        "    by='decision_maker', ascending=False), annot=True)"
      ],
      "metadata": {
        "colab": {
          "base_uri": "https://localhost:8080/",
          "height": 502
        },
        "id": "0821Ow9fCsJF",
        "outputId": "f1d5e4c0-2188-4a49-af0e-b7370c20afb5"
      },
      "execution_count": null,
      "outputs": [
        {
          "output_type": "execute_result",
          "data": {
            "text/plain": [
              "<matplotlib.axes._subplots.AxesSubplot at 0x7f714db7dad0>"
            ]
          },
          "metadata": {},
          "execution_count": 97
        },
        {
          "output_type": "display_data",
          "data": {
            "text/plain": [
              "<Figure size 432x576 with 2 Axes>"
            ],
            "image/png": "[encoded data removed]"
          },
          "metadata": {
            "needs_background": "light"
          }
        }
      ]
    },
    {
      "cell_type": "code",
      "source": [
        "new_df.to_excel(\"Correlation.xlsx\")"
      ],
      "metadata": {
        "id": "owgLSwMjHsuI"
      },
      "execution_count": null,
      "outputs": []
    }
  ],
  "metadata": {
    "colab": {
      "collapsed_sections": [
        "SyGQcIp30x01"
      ],
      "name": "Household_Authority_Inequality",
      "provenance": []
    },
    "kernelspec": {
      "display_name": "Python 3",
      "name": "python3"
    },
    "language_info": {
      "name": "python"
    }
  },
  "nbformat": 4,
  "nbformat_minor": 0
}